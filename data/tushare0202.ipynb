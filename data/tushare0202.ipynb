{
 "cells": [
  {
   "cell_type": "markdown",
   "id": "6faea144-7cec-4d99-8868-4ea1ff95ec1a",
   "metadata": {},
   "source": [
    "https://tushare.pro/document"
   ]
  },
  {
   "cell_type": "code",
   "execution_count": 1,
   "id": "0e0535c8-e293-4bd5-9cd9-442c163d56ea",
   "metadata": {},
   "outputs": [],
   "source": [
    "# %pip install tushare --upgrade"
   ]
  },
  {
   "cell_type": "code",
   "execution_count": 2,
   "id": "3dcf28bb-e538-43d7-9a0a-3857956457e6",
   "metadata": {},
   "outputs": [
    {
     "data": {
      "text/plain": [
       "'/Users/winston/git_rep/sys23/data'"
      ]
     },
     "execution_count": 2,
     "metadata": {},
     "output_type": "execute_result"
    }
   ],
   "source": [
    "pwd"
   ]
  },
  {
   "cell_type": "code",
   "execution_count": 3,
   "id": "fb8e4332-fd22-4e31-8a8c-3c4ba4bdd6c9",
   "metadata": {},
   "outputs": [],
   "source": [
    "_PATH = '/Users/winston/git_rep/sys23/data/'\n",
    "\n",
    "import yaml\n",
    "conf = '/Users/winston/git_rep/sys23/config_stk.yaml'\n",
    "conf = yaml.safe_load(open(conf, encoding='utf-8'))"
   ]
  },
  {
   "cell_type": "code",
   "execution_count": 4,
   "id": "1b8161b3-33d2-493b-9f52-8681f6ab5d8c",
   "metadata": {},
   "outputs": [],
   "source": [
    "import os\n",
    "import pandas as pd\n",
    "import numpy as np\n",
    "import datetime\n",
    "import time\n",
    "import importlib\n",
    "from tqdm import tqdm"
   ]
  },
  {
   "cell_type": "code",
   "execution_count": 5,
   "id": "2811a5f8-24cb-475f-bbc4-5525d9b4e5b8",
   "metadata": {
    "tags": []
   },
   "outputs": [],
   "source": [
    "import sys\n",
    "# sys.path.append(conf['api_path'])\n",
    "sys.path.append('/Users/winston/git_rep/sys23')\n",
    "import data.api\n",
    "importlib.reload(data.api)\n",
    "# from plt_head import *\n",
    "\n",
    "import tushare as ts\n",
    "_TOKEN = open(conf['tushare_token']).read().strip('\\n')\n",
    "pro = ts.pro_api(_TOKEN)\n",
    "# ts.set_token(_TOKEN)\n",
    "# pro = ts.pro_api()"
   ]
  },
  {
   "cell_type": "markdown",
   "id": "a1c588e5-f425-435b-a63c-44c70039adf1",
   "metadata": {},
   "source": [
    "### 获取交易日期"
   ]
  },
  {
   "cell_type": "code",
   "execution_count": 6,
   "id": "8873169d-5095-466a-9d6d-dabc98583d4e",
   "metadata": {},
   "outputs": [
    {
     "name": "stdout",
     "output_type": "stream",
     "text": [
      "Update `/Users/winston/git_rep/sys23/data//tradedates.csv`\n",
      "get_tradedates: 20150105 20230210\n"
     ]
    }
   ],
   "source": [
    "## 获取交易日期\n",
    "start_date = '20150101'  # tushare最开始从2015\n",
    "end_date = datetime.date.today().strftime('%Y%m%d')\n",
    "# end_date = '20230130'\n",
    "# calendar_dates = data.api.wget_tradedates(start_date, end_date, pro, path=_PATH)\n",
    "tradedates = data.api.get_tradedates(start_date, end_date, pro, path=_PATH, fmt='%Y%m%d')"
   ]
  },
  {
   "cell_type": "markdown",
   "id": "69cd9ef0-c2f7-4058-b674-16c87243f78c",
   "metadata": {},
   "source": [
    "### 获取日线行情 "
   ]
  },
  {
   "cell_type": "code",
   "execution_count": 7,
   "id": "88e0c802-fda8-41d8-86c5-936c434690f3",
   "metadata": {},
   "outputs": [
    {
     "name": "stderr",
     "output_type": "stream",
     "text": [
      "daily: 20230210: 100%|█████████████████████| 1971/1971 [00:07<00:00, 253.76it/s]\n",
      "daily_basic: 20230210: 100%|███████████████| 1971/1971 [00:13<00:00, 148.54it/s]\n",
      "adj_factor: 20230210: 100%|████████████████| 1971/1971 [00:03<00:00, 545.43it/s]\n",
      "suspend_d: 20230210: 100%|████████████████| 1971/1971 [00:00<00:00, 2584.31it/s]\n",
      "moneyflow: 20230210: 100%|█████████████████| 1971/1971 [00:15<00:00, 125.30it/s]\n",
      "stk_limit: 20230210: 100%|█████████████████| 1971/1971 [00:05<00:00, 333.61it/s]\n"
     ]
    },
    {
     "data": {
      "text/html": [
       "<div>\n",
       "<style scoped>\n",
       "    .dataframe tbody tr th:only-of-type {\n",
       "        vertical-align: middle;\n",
       "    }\n",
       "\n",
       "    .dataframe tbody tr th {\n",
       "        vertical-align: top;\n",
       "    }\n",
       "\n",
       "    .dataframe thead th {\n",
       "        text-align: right;\n",
       "    }\n",
       "</style>\n",
       "<table border=\"1\" class=\"dataframe\">\n",
       "  <thead>\n",
       "    <tr style=\"text-align: right;\">\n",
       "      <th></th>\n",
       "      <th>trade_date</th>\n",
       "      <th>ts_code</th>\n",
       "      <th>up_limit</th>\n",
       "      <th>down_limit</th>\n",
       "    </tr>\n",
       "  </thead>\n",
       "  <tbody>\n",
       "    <tr>\n",
       "      <th>6386</th>\n",
       "      <td>20230210</td>\n",
       "      <td>900947.SH</td>\n",
       "      <td>0.29</td>\n",
       "      <td>0.24</td>\n",
       "    </tr>\n",
       "    <tr>\n",
       "      <th>6387</th>\n",
       "      <td>20230210</td>\n",
       "      <td>900948.SH</td>\n",
       "      <td>1.54</td>\n",
       "      <td>1.26</td>\n",
       "    </tr>\n",
       "    <tr>\n",
       "      <th>6388</th>\n",
       "      <td>20230210</td>\n",
       "      <td>900952.SH</td>\n",
       "      <td>0.31</td>\n",
       "      <td>0.25</td>\n",
       "    </tr>\n",
       "    <tr>\n",
       "      <th>6389</th>\n",
       "      <td>20230210</td>\n",
       "      <td>900953.SH</td>\n",
       "      <td>0.51</td>\n",
       "      <td>0.42</td>\n",
       "    </tr>\n",
       "    <tr>\n",
       "      <th>6390</th>\n",
       "      <td>20230210</td>\n",
       "      <td>900957.SH</td>\n",
       "      <td>0.63</td>\n",
       "      <td>0.52</td>\n",
       "    </tr>\n",
       "  </tbody>\n",
       "</table>\n",
       "</div>"
      ],
      "text/plain": [
       "      trade_date    ts_code  up_limit  down_limit\n",
       "6386    20230210  900947.SH      0.29        0.24\n",
       "6387    20230210  900948.SH      1.54        1.26\n",
       "6388    20230210  900952.SH      0.31        0.25\n",
       "6389    20230210  900953.SH      0.51        0.42\n",
       "6390    20230210  900957.SH      0.63        0.52"
      ]
     },
     "execution_count": 7,
     "metadata": {},
     "output_type": "execute_result"
    }
   ],
   "source": [
    "## 获取日线行情 \n",
    "\n",
    "# df = pro.daily(trade_date=tradedates.iloc[0])\n",
    "\n",
    "api_kws = ['daily', 'daily_basic', 'adj_factor', \n",
    "           'suspend_d', 'moneyflow', 'stk_limit', \n",
    "           # 'index_dailybasic', # 大盘指数每日指标\n",
    "           # moneyflow_hsgt, \n",
    "          ]\n",
    "\n",
    "for api_kw in api_kws:\n",
    "    cache_path = _PATH + f'cache/{api_kw}/'\n",
    "    os.makedirs(cache_path, exist_ok=True)\n",
    "    \n",
    "    bar = tqdm(tradedates)\n",
    "    for td in bar:\n",
    "        file = cache_path + td + '.csv'\n",
    "        if os.path.exists(file):\n",
    "            continue\n",
    "        # break\n",
    "        for _ in range(3):  # 尝试3次\n",
    "            try:\n",
    "                df = pro.query(api_kw, trade_date=td)\n",
    "            except:\n",
    "                time.sleep(1)\n",
    "            else:\n",
    "                df.to_csv(file, index=False)\n",
    "                break  # 找到并存储\n",
    "        bar.set_description(api_kw + ': ' + td)\n",
    "\n",
    "df = pd.read_csv(cache_path + tradedates.iloc[-1] + '.csv')\n",
    "df.tail()"
   ]
  },
  {
   "cell_type": "code",
   "execution_count": null,
   "id": "8101bedb-0ec0-40bc-8cde-f790af88e61e",
   "metadata": {},
   "outputs": [],
   "source": []
  }
 ],
 "metadata": {
  "kernelspec": {
   "display_name": "Python 3.11.0 - tushare",
   "language": "python",
   "name": "tushare"
  },
  "language_info": {
   "codemirror_mode": {
    "name": "ipython",
    "version": 3
   },
   "file_extension": ".py",
   "mimetype": "text/x-python",
   "name": "python",
   "nbconvert_exporter": "python",
   "pygments_lexer": "ipython3",
   "version": "3.11.0"
  }
 },
 "nbformat": 4,
 "nbformat_minor": 5
}
