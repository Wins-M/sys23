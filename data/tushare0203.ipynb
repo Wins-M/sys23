{
 "cells": [
  {
   "cell_type": "markdown",
   "id": "fcae9531-48e2-4cf7-9d94-b5343e47899e",
   "metadata": {},
   "source": [
    "https://tushare.pro/document"
   ]
  },
  {
   "cell_type": "code",
   "execution_count": 1,
   "id": "0e0535c8-e293-4bd5-9cd9-442c163d56ea",
   "metadata": {},
   "outputs": [],
   "source": [
    "# %pip install tushare --upgrade\n",
    "# %pip install pyyaml\n",
    "# %pip install matplotlib\n",
    "# %pip install seaborn"
   ]
  },
  {
   "cell_type": "code",
   "execution_count": 2,
   "id": "fb8e4332-fd22-4e31-8a8c-3c4ba4bdd6c9",
   "metadata": {},
   "outputs": [],
   "source": [
    "_PATH = '/Users/winston/api_mine/data/'"
   ]
  },
  {
   "cell_type": "code",
   "execution_count": 3,
   "id": "1b8161b3-33d2-493b-9f52-8681f6ab5d8c",
   "metadata": {},
   "outputs": [],
   "source": [
    "import os\n",
    "import pandas as pd\n",
    "import numpy as np\n",
    "import datetime\n",
    "import time\n",
    "import importlib\n",
    "from tqdm import tqdm\n",
    "from matplotlib import pyplot as plt"
   ]
  },
  {
   "cell_type": "code",
   "execution_count": 4,
   "id": "0da553d0-91c1-4444-b6e7-be7fb7546285",
   "metadata": {},
   "outputs": [],
   "source": [
    "import yaml\n",
    "conf = '/Users/winston/api_mine/config/config_stk.yaml'\n",
    "conf = yaml.safe_load(open(conf, encoding='utf-8'))\n",
    "\n",
    "import sys\n",
    "sys.path.append(conf['api_path'])\n",
    "# from plt_head import *\n",
    "import data.api\n",
    "import importlib\n",
    "importlib.reload(data.api)\n",
    "\n",
    "import tushare as ts\n",
    "# _TOKEN = conf['tushare_token']\n",
    "# ts.set_token(_TOKEN)\n",
    "# pro = ts.pro_api(_TOKEN)\n",
    "pro = ts.pro_api()"
   ]
  },
  {
   "cell_type": "markdown",
   "id": "922755a1-b684-4a10-b4f1-b4f53e6ee377",
   "metadata": {},
   "source": [
    "## 0203 获取个股；个股后复权盘面可有日度记录确定"
   ]
  },
  {
   "cell_type": "markdown",
   "id": "3003b6b7-f12f-4f64-a6a1-0d8b99f82d3c",
   "metadata": {},
   "source": [
    "### 交易日期"
   ]
  },
  {
   "cell_type": "code",
   "execution_count": 5,
   "id": "6fcbd617-1973-4e0d-b6c2-eac622d5bf04",
   "metadata": {},
   "outputs": [
    {
     "name": "stdout",
     "output_type": "stream",
     "text": [
      "get_tradedates: 2015-01-05 2023-01-30\n"
     ]
    }
   ],
   "source": [
    "start_date = '20150101'\n",
    "end_date = '20230130'\n",
    "\n",
    "tradedates = data.api.get_tradedates(start_date, end_date, pro=pro, fmt='%Y-%m-%d')"
   ]
  },
  {
   "cell_type": "markdown",
   "id": "63a073cd-1274-4588-b6d3-c86f5e6ffe2d",
   "metadata": {},
   "source": [
    "### IPO新股列表 最大2000条"
   ]
  },
  {
   "cell_type": "code",
   "execution_count": 6,
   "id": "c1938b39-d2ae-475d-b3a0-3cd15b60d264",
   "metadata": {},
   "outputs": [
    {
     "name": "stdout",
     "output_type": "stream",
     "text": [
      "Load 3684 rows from `/Users/winston/api_mine/data/cache/new_share.csv`\n"
     ]
    },
    {
     "data": {
      "text/html": [
       "<div>\n",
       "<style scoped>\n",
       "    .dataframe tbody tr th:only-of-type {\n",
       "        vertical-align: middle;\n",
       "    }\n",
       "\n",
       "    .dataframe tbody tr th {\n",
       "        vertical-align: top;\n",
       "    }\n",
       "\n",
       "    .dataframe thead th {\n",
       "        text-align: right;\n",
       "    }\n",
       "</style>\n",
       "<table border=\"1\" class=\"dataframe\">\n",
       "  <thead>\n",
       "    <tr style=\"text-align: right;\">\n",
       "      <th></th>\n",
       "      <th>ts_code</th>\n",
       "      <th>sub_code</th>\n",
       "      <th>name</th>\n",
       "      <th>ipo_date</th>\n",
       "      <th>issue_date</th>\n",
       "      <th>amount</th>\n",
       "      <th>market_amount</th>\n",
       "      <th>price</th>\n",
       "      <th>pe</th>\n",
       "      <th>limit_amount</th>\n",
       "      <th>funds</th>\n",
       "      <th>ballot</th>\n",
       "    </tr>\n",
       "  </thead>\n",
       "  <tbody>\n",
       "    <tr>\n",
       "      <th>0</th>\n",
       "      <td>301303.SZ</td>\n",
       "      <td>301303</td>\n",
       "      <td>真兰仪表</td>\n",
       "      <td>20230209</td>\n",
       "      <td>NaN</td>\n",
       "      <td>7300.0</td>\n",
       "      <td>0.0</td>\n",
       "      <td>0.00</td>\n",
       "      <td>0.00</td>\n",
       "      <td>2.05</td>\n",
       "      <td>18.316</td>\n",
       "      <td>0.0</td>\n",
       "    </tr>\n",
       "    <tr>\n",
       "      <th>1</th>\n",
       "      <td>688486.SH</td>\n",
       "      <td>787486</td>\n",
       "      <td>龙迅股份</td>\n",
       "      <td>20230208</td>\n",
       "      <td>NaN</td>\n",
       "      <td>1731.0</td>\n",
       "      <td>0.0</td>\n",
       "      <td>0.00</td>\n",
       "      <td>0.00</td>\n",
       "      <td>0.40</td>\n",
       "      <td>10.496</td>\n",
       "      <td>0.0</td>\n",
       "    </tr>\n",
       "    <tr>\n",
       "      <th>2</th>\n",
       "      <td>603190.SH</td>\n",
       "      <td>732190</td>\n",
       "      <td>亚通精工</td>\n",
       "      <td>20230208</td>\n",
       "      <td>NaN</td>\n",
       "      <td>3000.0</td>\n",
       "      <td>0.0</td>\n",
       "      <td>0.00</td>\n",
       "      <td>0.00</td>\n",
       "      <td>1.20</td>\n",
       "      <td>8.727</td>\n",
       "      <td>0.0</td>\n",
       "    </tr>\n",
       "    <tr>\n",
       "      <th>3</th>\n",
       "      <td>603307.SH</td>\n",
       "      <td>732307</td>\n",
       "      <td>扬州金泉</td>\n",
       "      <td>20230207</td>\n",
       "      <td>NaN</td>\n",
       "      <td>1675.0</td>\n",
       "      <td>1675.0</td>\n",
       "      <td>31.04</td>\n",
       "      <td>21.61</td>\n",
       "      <td>1.60</td>\n",
       "      <td>5.199</td>\n",
       "      <td>0.0</td>\n",
       "    </tr>\n",
       "    <tr>\n",
       "      <th>4</th>\n",
       "      <td>001260.SZ</td>\n",
       "      <td>1260</td>\n",
       "      <td>坤泰股份</td>\n",
       "      <td>20230207</td>\n",
       "      <td>NaN</td>\n",
       "      <td>2875.0</td>\n",
       "      <td>0.0</td>\n",
       "      <td>0.00</td>\n",
       "      <td>0.00</td>\n",
       "      <td>1.15</td>\n",
       "      <td>4.103</td>\n",
       "      <td>0.0</td>\n",
       "    </tr>\n",
       "  </tbody>\n",
       "</table>\n",
       "</div>"
      ],
      "text/plain": [
       "     ts_code  sub_code  name  ipo_date issue_date  amount  market_amount  \\\n",
       "0  301303.SZ    301303  真兰仪表  20230209        NaN  7300.0            0.0   \n",
       "1  688486.SH    787486  龙迅股份  20230208        NaN  1731.0            0.0   \n",
       "2  603190.SH    732190  亚通精工  20230208        NaN  3000.0            0.0   \n",
       "3  603307.SH    732307  扬州金泉  20230207        NaN  1675.0         1675.0   \n",
       "4  001260.SZ      1260  坤泰股份  20230207        NaN  2875.0            0.0   \n",
       "\n",
       "   price     pe  limit_amount   funds  ballot  \n",
       "0   0.00   0.00          2.05  18.316     0.0  \n",
       "1   0.00   0.00          0.40  10.496     0.0  \n",
       "2   0.00   0.00          1.20   8.727     0.0  \n",
       "3  31.04  21.61          1.60   5.199     0.0  \n",
       "4   0.00   0.00          1.15   4.103     0.0  "
      ]
     },
     "execution_count": 6,
     "metadata": {},
     "output_type": "execute_result"
    }
   ],
   "source": [
    "new_share = data.api.wget_new_share(pro, path=_PATH + 'cache/', \n",
    "                                    lfy=2008, rfy=2023, step=5)\n",
    "new_share.head()"
   ]
  },
  {
   "cell_type": "markdown",
   "id": "36b433b2-9e25-423e-97c1-255d4e2c7903",
   "metadata": {},
   "source": [
    "### 指数成分和权重"
   ]
  },
  {
   "cell_type": "code",
   "execution_count": 7,
   "id": "9b7376f0-6567-46af-a35e-a9f148a43c32",
   "metadata": {},
   "outputs": [
    {
     "name": "stdout",
     "output_type": "stream",
     "text": [
      "CSI300 399300.SZ\n",
      "399300.SZ FY2023 Q2: no index_weight records\n",
      "399300.SZ FY2023 Q3: no index_weight records\n",
      "399300.SZ FY2023 Q4: no index_weight records\n",
      "CSI500 000905.SH\n",
      "000905.SH FY2023 Q2: no index_weight records\n",
      "000905.SH FY2023 Q3: no index_weight records\n",
      "000905.SH FY2023 Q4: no index_weight records\n",
      "CSI800 000906.SH\n",
      "000906.SH FY2023 Q2: no index_weight records\n",
      "000906.SH FY2023 Q3: no index_weight records\n",
      "000906.SH FY2023 Q4: no index_weight records\n",
      "CSI1000 000852.SH\n",
      "000852.SH FY2023 Q2: no index_weight records\n",
      "000852.SH FY2023 Q3: no index_weight records\n",
      "000852.SH FY2023 Q4: no index_weight records\n"
     ]
    },
    {
     "data": {
      "text/html": [
       "<div>\n",
       "<style scoped>\n",
       "    .dataframe tbody tr th:only-of-type {\n",
       "        vertical-align: middle;\n",
       "    }\n",
       "\n",
       "    .dataframe tbody tr th {\n",
       "        vertical-align: top;\n",
       "    }\n",
       "\n",
       "    .dataframe thead th {\n",
       "        text-align: right;\n",
       "    }\n",
       "</style>\n",
       "<table border=\"1\" class=\"dataframe\">\n",
       "  <thead>\n",
       "    <tr style=\"text-align: right;\">\n",
       "      <th></th>\n",
       "      <th>index_code</th>\n",
       "      <th>con_code</th>\n",
       "      <th>trade_date</th>\n",
       "      <th>weight</th>\n",
       "    </tr>\n",
       "  </thead>\n",
       "  <tbody>\n",
       "    <tr>\n",
       "      <th>0</th>\n",
       "      <td>000852.SH</td>\n",
       "      <td>600680.SH</td>\n",
       "      <td>20141231</td>\n",
       "      <td>0.04</td>\n",
       "    </tr>\n",
       "    <tr>\n",
       "      <th>1</th>\n",
       "      <td>000852.SH</td>\n",
       "      <td>001872.SZ</td>\n",
       "      <td>20141231</td>\n",
       "      <td>0.11</td>\n",
       "    </tr>\n",
       "    <tr>\n",
       "      <th>2</th>\n",
       "      <td>000852.SH</td>\n",
       "      <td>001914.SZ</td>\n",
       "      <td>20141231</td>\n",
       "      <td>0.11</td>\n",
       "    </tr>\n",
       "    <tr>\n",
       "      <th>3</th>\n",
       "      <td>000852.SH</td>\n",
       "      <td>600680.SH</td>\n",
       "      <td>20141128</td>\n",
       "      <td>0.05</td>\n",
       "    </tr>\n",
       "    <tr>\n",
       "      <th>4</th>\n",
       "      <td>000852.SH</td>\n",
       "      <td>001872.SZ</td>\n",
       "      <td>20141128</td>\n",
       "      <td>0.08</td>\n",
       "    </tr>\n",
       "  </tbody>\n",
       "</table>\n",
       "</div>"
      ],
      "text/plain": [
       "  index_code   con_code trade_date  weight\n",
       "0  000852.SH  600680.SH   20141231    0.04\n",
       "1  000852.SH  001872.SZ   20141231    0.11\n",
       "2  000852.SH  001914.SZ   20141231    0.11\n",
       "3  000852.SH  600680.SH   20141128    0.05\n",
       "4  000852.SH  001872.SZ   20141128    0.08"
      ]
     },
     "execution_count": 7,
     "metadata": {},
     "output_type": "execute_result"
    }
   ],
   "source": [
    "for kind in ['CSI300', 'CSI500', 'CSI800', 'CSI1000']:\n",
    "    \n",
    "    index_code = conf['csi_pool'][kind]; print(kind, index_code)\n",
    "    \n",
    "    df = data.api.wget_index_weight(pro, index_code, 2014, 2024,\n",
    "                                    path=_PATH + 'cache/')\n",
    "df.head()"
   ]
  },
  {
   "cell_type": "code",
   "execution_count": 8,
   "id": "3cc43257-468e-49d6-bdf4-1d4549e451f5",
   "metadata": {},
   "outputs": [],
   "source": [
    "# ## 个股复权历史\n",
    "# df = ts.pro_bar(ts_code='600519.SH', adj='hfq', start_date=start_date, end_date=end_date)\n",
    "\n",
    "# df = df.set_index(pd.to_datetime(df.trade_date))\n",
    "# df.close.plot()"
   ]
  }
 ],
 "metadata": {
  "kernelspec": {
   "display_name": "Python 3.11.0 - tushare",
   "language": "python",
   "name": "tushare"
  },
  "language_info": {
   "codemirror_mode": {
    "name": "ipython",
    "version": 3
   },
   "file_extension": ".py",
   "mimetype": "text/x-python",
   "name": "python",
   "nbconvert_exporter": "python",
   "pygments_lexer": "ipython3",
   "version": "3.11.0"
  }
 },
 "nbformat": 4,
 "nbformat_minor": 5
}
