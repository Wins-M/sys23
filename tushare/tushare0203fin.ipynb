{
 "cells": [
  {
   "cell_type": "code",
   "execution_count": null,
   "id": "c694772d-ee4c-471b-b53f-0eb968d84d83",
   "metadata": {},
   "outputs": [],
   "source": []
  },
  {
   "cell_type": "markdown",
   "id": "ecf4f64a-3eb7-41b5-ba24-416b3bed449d",
   "metadata": {},
   "source": [
    "选定股池：CSI800"
   ]
  },
  {
   "cell_type": "markdown",
   "id": "a12c013b-23e9-4d3b-9ba6-89e0d07280b0",
   "metadata": {},
   "source": [
    "以code为单位，指定关键字，获得财务指标面板"
   ]
  },
  {
   "cell_type": "markdown",
   "id": "54bc3f90-d386-4ed6-84e9-d6807cc8096c",
   "metadata": {},
   "source": [
    "实例\n",
    "\n",
    "```python\n",
    "pro = ts.pro_api()\n",
    "# 利润表\n",
    "df = pro.income(ts_code='600000.SH', start_date='20180101', end_date='20180730')\n",
    "df = pro.income_vip(period='20181231')\n",
    "# 资产负债表\n",
    "df = pro.balancesheet(ts_code='600000.SH', start_date='20180101', end_date='20180730')\n",
    "df2 = pro.balancesheet_vip(period='20181231')\n",
    "# 现金流量表\n",
    "df = pro.cashflow(ts_code='600000.SH', start_date='20180101', end_date='20180730')\n",
    "df2 = pro.cashflow_vip(period='20181231',fields='')\n",
    "# 业绩预告\n",
    "pro.forecast(ann_date='20190131')\n",
    "df = pro.forecast_vip(period='20181231')\n",
    "# 业绩快报\n",
    "pro.express(ts_code='600000.SH', start_date='20180101', end_date='20180701')\n",
    "df = pro.express_vip(period='20181231')\n",
    "\n",
    "\n",
    "\n",
    "```"
   ]
  },
  {
   "cell_type": "markdown",
   "id": "8252ce8b-8f34-40c3-93ab-db1f681de9db",
   "metadata": {},
   "source": [
    "选定股池：CSI800"
   ]
  },
  {
   "cell_type": "markdown",
   "id": "adb02df8-acb1-410f-a290-32a31290b832",
   "metadata": {},
   "source": [
    "选定股池：CSI800"
   ]
  }
 ],
 "metadata": {
  "kernelspec": {
   "display_name": "Python 3.11.0 - tushare",
   "language": "python",
   "name": "tushare"
  },
  "language_info": {
   "codemirror_mode": {
    "name": "ipython",
    "version": 3
   },
   "file_extension": ".py",
   "mimetype": "text/x-python",
   "name": "python",
   "nbconvert_exporter": "python",
   "pygments_lexer": "ipython3",
   "version": "3.11.0"
  }
 },
 "nbformat": 4,
 "nbformat_minor": 5
}
