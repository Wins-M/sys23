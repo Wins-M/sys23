{
 "cells": [
  {
   "cell_type": "code",
   "execution_count": 1,
   "metadata": {
    "ExecuteTime": {
     "end_time": "2023-04-18T01:39:58.651452Z",
     "start_time": "2023-04-18T01:39:58.644302Z"
    },
    "collapsed": false,
    "jupyter": {
     "outputs_hidden": false
    }
   },
   "outputs": [],
   "source": [
    "import os\n",
    "import sys\n",
    "\n",
    "_PATH = '/Users/winston/mygitrep/sys23/'  # TODO\n",
    "os.chdir(_PATH)\n",
    "sys.path.append(_PATH)"
   ]
  },
  {
   "cell_type": "code",
   "execution_count": 2,
   "metadata": {
    "ExecuteTime": {
     "end_time": "2023-04-18T01:45:26.280396Z",
     "start_time": "2023-04-18T01:45:26.277550Z"
    },
    "collapsed": false,
    "jupyter": {
     "outputs_hidden": false
    }
   },
   "outputs": [],
   "source": [
    "import warnings\n",
    "warnings.simplefilter(\"ignore\")\n",
    "%matplotlib inline\n",
    "import matplotlib.pyplot as plt\n",
    "import seaborn\n",
    "# seaborn.set_style(\"darkgrid\")\n",
    "seaborn.set_style(\"whitegrid\")\n",
    "plt.rc(\"figure\", figsize=(16, 6))\n",
    "# plt.rc(\"figure\", figsize=(6, 3))\n",
    "plt.rc(\"savefig\", dpi=90)\n",
    "# plt.rc(\"font\", family=\"sans-serif\")\n",
    "plt.rcParams['font.sans-serif'] = ['Arial Unicode MS']\n",
    "plt.rc(\"font\", size=12)\n",
    "# plt.rc(\"font\", size=10)\n",
    "plt.rcParams[\"date.autoformatter.hour\"] = \"%H:%M:%S\""
   ]
  },
  {
   "cell_type": "code",
   "execution_count": 3,
   "metadata": {
    "ExecuteTime": {
     "end_time": "2023-04-18T03:07:42.558355Z",
     "start_time": "2023-04-18T03:07:42.540205Z"
    },
    "collapsed": false,
    "jupyter": {
     "outputs_hidden": false
    }
   },
   "outputs": [],
   "source": [
    "from api.load_tushare import conf_init, next_calendar_date\n",
    "import pandas as pd\n",
    "import numpy as np\n",
    "\n",
    "config_path = f'{_PATH}/config_stk.yaml'\n",
    "conf = conf_init(conf_path=config_path)\n",
    "\n",
    "begin_date = '2015-01-01'\n",
    "# begin_date = '2018-01-01'\n",
    "end_date = '2022-12-31'\n",
    "bd_1 = next_calendar_date(begin_date, delta=-5, lfmt='%Y-%m-%d', rfmt='%Y-%m-%d')"
   ]
  },
  {
   "cell_type": "code",
   "execution_count": 4,
   "metadata": {
    "ExecuteTime": {
     "end_time": "2023-04-18T03:07:16.411455Z",
     "start_time": "2023-04-18T03:07:16.406772Z"
    },
    "collapsed": false,
    "jupyter": {
     "outputs_hidden": false
    }
   },
   "outputs": [
    {
     "data": {
      "text/plain": [
       "dict_keys(['status', 'tushare_token', 'api_path', 'path', 'year_length', 'csi_pool'])"
      ]
     },
     "execution_count": 4,
     "metadata": {},
     "output_type": "execute_result"
    }
   ],
   "source": [
    "conf.keys()"
   ]
  },
  {
   "cell_type": "markdown",
   "metadata": {
    "tags": []
   },
   "source": [
    "## 各指数内统计"
   ]
  },
  {
   "cell_type": "code",
   "execution_count": 5,
   "metadata": {
    "ExecuteTime": {
     "end_time": "2023-04-18T02:00:58.535083Z",
     "start_time": "2023-04-18T02:00:58.530677Z"
    },
    "collapsed": false,
    "jupyter": {
     "outputs_hidden": false
    }
   },
   "outputs": [
    {
     "data": {
      "text/plain": [
       "{'CSI300': '399300.SZ',\n",
       " 'CSI500': '000905.SH',\n",
       " 'CSI800': '000906.SH',\n",
       " 'CSI1000': '000852.SH'}"
      ]
     },
     "execution_count": 5,
     "metadata": {},
     "output_type": "execute_result"
    }
   ],
   "source": [
    "conf['csi_pool']"
   ]
  },
  {
   "cell_type": "code",
   "execution_count": 6,
   "metadata": {
    "ExecuteTime": {
     "end_time": "2023-04-18T02:12:26.104670Z",
     "start_time": "2023-04-18T02:12:14.162328Z"
    },
    "collapsed": false,
    "jupyter": {
     "outputs_hidden": false
    }
   },
   "outputs": [
    {
     "name": "stdout",
     "output_type": "stream",
     "text": [
      "     CSI300           CSI500           CSI800          CSI1000        \n",
      "       出现次数      频率     出现次数      频率     出现次数      频率     出现次数      频率\n",
      "DP                                                                    \n",
      "0    161362   13.8%   242304   12.4%   403666   13.0%   482074   13.0%\n",
      "1    106582    9.1%   177686    9.1%   284268    9.1%   330364    8.9%\n",
      "2    105514    9.0%   176254    9.1%   281768    9.0%   330478    8.9%\n",
      "3    102878    8.8%   175436    9.0%   278314    8.9%   327468    8.9%\n",
      "4    101866    8.7%   172730    8.9%   274596    8.8%   318548    8.6%\n",
      "5    119772   10.3%   196308   10.1%   316080   10.1%   374994   10.1%\n",
      "6    102642    8.8%   174706    9.0%   277348    8.9%   328688    8.9%\n",
      "7    103340    8.8%   174506    9.0%   277846    8.9%   323696    8.7%\n",
      "8    115844    9.9%   192994    9.9%   308838    9.9%   366564    9.9%\n",
      "9    117982   10.1%   193950   10.0%   311932   10.0%   361196    9.8%\n",
      "缺失    30418    2.6%    70126    3.6%   100544    3.2%   155482    4.2%\n",
      "总计  1168200  100.0%  1947000  100.0%  3115200  100.0%  3699552  100.0%\n"
     ]
    }
   ],
   "source": [
    "close_raw = pd.read_csv(conf['path']['close'], index_col=0, parse_dates=True).loc[begin_date:end_date]\n",
    "\n",
    "tmp = []\n",
    "for kind_pool in conf['csi_pool'].keys():\n",
    "\n",
    "    stk_pool = pd.read_csv(\n",
    "        conf['path'][kind_pool], index_col=0, parse_dates=True\n",
    "    ).loc[begin_date:end_date]\n",
    "\n",
    "    stk_pool_by_date = stk_pool.apply(lambda x: x[x>0].index.to_list(), axis=1)\n",
    "\n",
    "    df = close_raw.apply(\n",
    "        lambda s: s.loc[set(s.index).intersection(set(stk_pool_by_date.loc[s.name]))].apply(\n",
    "            lambda x: int(x*100%10) if not np.isnan(x) else 99\n",
    "        ).value_counts(),\n",
    "        axis=1\n",
    "    )\n",
    "    df1 = df.sum().rename((kind_pool, '出现次数'))\n",
    "    df1.rename(index={99: '缺失'}, inplace=True)\n",
    "    df2 = (df1 / df1.sum()).rename((kind_pool, '频率'))\n",
    "    tmp.append(df1)\n",
    "    tmp.append(df2)\n",
    "del df1, df2\n",
    "df = pd.concat(tmp, axis=1)\n",
    "del tmp\n",
    "df.loc['总计'] = df.sum()\n",
    "df.index.name = 'DP'\n",
    "df_repr = df.applymap(\n",
    "    lambda x: str(int(x)) if x > 2 else f'{x * 100:2.1f}%')\n",
    "df.to_excel(f\"{conf['path']['demo']}lucky_number/样本数量及其分布_ALL.xlsx\")\n",
    "df_repr.to_csv(f\"{conf['path']['demo']}lucky_number/样本数量及其分布_ALL.csv\")\n",
    "print(df_repr)\n",
    "\n",
    "table01 = df.copy()\n",
    "del df, df_repr, close_raw"
   ]
  },
  {
   "cell_type": "markdown",
   "metadata": {},
   "source": [
    "## CSI500"
   ]
  },
  {
   "cell_type": "code",
   "execution_count": 7,
   "metadata": {
    "ExecuteTime": {
     "end_time": "2023-04-18T03:09:40.446618Z",
     "start_time": "2023-04-18T03:09:40.191968Z"
    },
    "collapsed": false,
    "jupyter": {
     "outputs_hidden": false
    }
   },
   "outputs": [],
   "source": [
    "kind_pool = 'CSI500'\n",
    "\n",
    "stk_pool = pd.read_csv(\n",
    "    conf['path'][kind_pool], index_col=0, parse_dates=True\n",
    ").loc[bd_1:end_date]\n",
    "\n",
    "\n",
    "stk_pool_by_date = stk_pool.apply(lambda x: x[x>0].index.to_list(), axis=1)\n",
    "del stk_pool"
   ]
  },
  {
   "cell_type": "code",
   "execution_count": 8,
   "metadata": {
    "ExecuteTime": {
     "end_time": "2023-04-18T03:09:56.433431Z",
     "start_time": "2023-04-18T03:09:53.078044Z"
    },
    "collapsed": false,
    "jupyter": {
     "outputs_hidden": false
    }
   },
   "outputs": [],
   "source": [
    "close_raw = pd.read_csv(conf['path']['close'], index_col=0, parse_dates=True).loc[begin_date:end_date]\n",
    "\n",
    "df = close_raw.apply(\n",
    "    lambda s: s.loc[s.index.intersection(stk_pool_by_date.loc[s.name])].apply(\n",
    "        lambda x: int(x*100%10) if not np.isnan(x) else 99\n",
    "    ).value_counts(),\n",
    "    axis=1\n",
    ")\n",
    "del close_raw\n",
    "# df.isna().sum(axis=1).cumsum().plot(title=f'{kind_pool}日股价缺失数量累积')\n",
    "# plt.show()\n",
    "\n",
    "grouped = df.groupby(df.index.to_series().apply(lambda x: x.year))\n",
    "appr_cnt = grouped.apply(sum)\n",
    "appr_freq = appr_cnt.apply(lambda s: s / s.sum(), axis=1)\n",
    "appr_cnt_freq = pd.concat(\n",
    "    [appr_cnt.stack().rename('出现次数'),\n",
    "     appr_freq.stack().rename('频率')],\n",
    "    axis=1\n",
    ").reset_index()\n",
    "appr_cnt_freq.columns = ['年份', 'DP', '出现次数', '频率']\n",
    "appr_cnt_freq = appr_cnt_freq.pivot(index='DP', columns=['年份'], values=['出现次数', '频率'])\n",
    "\n",
    "appr_cnt_freq = appr_cnt_freq.reset_index()\n",
    "cols = [('DP', '')]\n",
    "for year in range(int(begin_date[:4]), int(end_date[:4])+1):\n",
    "    cols += [('出现次数', year), ('频率', year)]\n",
    "\n",
    "appr_cnt_freq = appr_cnt_freq[cols].set_index('DP')\n",
    "appr_cnt_freq.columns.names = [None, None]\n",
    "appr_cnt_freq.rename(index={99: '缺失'}, inplace=True)\n",
    "appr_cnt_freq.loc['总计'] = appr_cnt_freq.sum()\n",
    "\n",
    "appr_cnt_freq_repr = appr_cnt_freq.applymap(\n",
    "    lambda x: str(int(x)) if x > 1 else f'{x * 100:2.1f}%')\n",
    "appr_cnt_freq.to_excel(f\"{conf['path']['demo']}lucky_number/样本数量及其分布_{kind_pool}.xlsx\")\n",
    "appr_cnt_freq_repr.to_csv(f\"{conf['path']['demo']}lucky_number/样本数量及其分布_{kind_pool}.csv\")\n",
    "\n",
    "table02 = appr_cnt_freq.copy()\n",
    "del df, grouped, appr_cnt, appr_freq, appr_cnt_freq, appr_cnt_freq_repr\n",
    "# appr_cnt_freq_repr"
   ]
  },
  {
   "cell_type": "code",
   "execution_count": 9,
   "metadata": {
    "ExecuteTime": {
     "end_time": "2023-04-18T03:19:09.021444Z",
     "start_time": "2023-04-18T03:19:01.909626Z"
    },
    "collapsed": false,
    "jupyter": {
     "outputs_hidden": false
    }
   },
   "outputs": [],
   "source": [
    "close_adj: pd.DataFrame = pd.read_csv(\n",
    "    conf['path']['closeAdj'], index_col=0, parse_dates=True).loc[bd_1: end_date]\n",
    "open_adj: pd.DataFrame = pd.read_csv(\n",
    "    conf['path']['openAdj'], index_col=0, parse_dates=True).loc[bd_1: end_date]\n",
    "rtn_c2c = close_adj.pct_change().loc[begin_date:]  # T-1 close to T0 close\n",
    "rtn_c2c_lag1 = close_adj.pct_change().shift(1).loc[begin_date:]  # T-2 close to T-1 close\n",
    "rtn_c2o = (open_adj / close_adj.shift(1) - 1).loc[begin_date:]  # T-1 close to T0 open\n",
    "del close_adj, open_adj\n",
    "\n",
    "# 直接去除涨跌停\n",
    "rtn_c2o[rtn_c2o > 0.101] = np.nan\n",
    "rtn_c2o[rtn_c2o < -0.101] = np.nan\n",
    "rtn_c2c_lag1[rtn_c2c_lag1 > 0.101] = np.nan\n",
    "rtn_c2c_lag1[rtn_c2c_lag1 < -0.101] = np.nan\n",
    "rtn_c2c[rtn_c2c > 0.101] = np.nan\n",
    "rtn_c2c[rtn_c2c < -0.101] = np.nan\n",
    "\n",
    "# 超额收益率\n",
    "rtn_c2o = rtn_c2o.apply(lambda s : s - s.mean(), axis=1)\n",
    "rtn_c2c = rtn_c2c.apply(lambda s : s - s.mean(), axis=1)\n",
    "rtn_c2c_lag1 = rtn_c2c_lag1.apply(lambda s : s - s.mean(), axis=1)\n",
    "\n",
    "df1 = rtn_c2o.apply(lambda s: s.loc[s.index.intersection(\n",
    "    stk_pool_by_date.loc[s.name])],axis=1).stack().reset_index()\n",
    "df1.columns = ['trade_date', 'stock_code', 'AOC']\n",
    "df2 = rtn_c2c.apply(lambda s: s.loc[s.index.intersection(\n",
    "    stk_pool_by_date.loc[s.name])],axis=1).stack().reset_index()\n",
    "df2.columns = ['trade_date', 'stock_code', 'ACC']\n",
    "# plt.plot(df1.groupby('trade_date').count().iloc[:, 0], label='c2o')\n",
    "# plt.plot(df2.groupby('trade_date').count().iloc[:, 0], label='c2c')\n",
    "# plt.legend()\n",
    "# plt.title('CSI500收益率得不到');\n",
    "panel: pd.DataFrame = df1.merge(df2, on=['trade_date', 'stock_code'], how='outer')\n",
    "del df1, df2, rtn_c2c, rtn_c2o\n",
    "\n",
    "df = rtn_c2c_lag1.apply(lambda s: s.loc[s.index.intersection(\n",
    "    stk_pool_by_date.loc[s.name])], axis=1).stack().reset_index()\n",
    "df.columns = ['trade_date', 'stock_code', 'ACC_L1']\n",
    "panel = panel.merge(df, on=['trade_date', 'stock_code'], how='left')\n",
    "del df, rtn_c2c_lag1\n",
    "\n",
    "close_raw0 = pd.read_csv(conf['path']['close'], index_col=0, parse_dates=True).loc[bd_1:end_date]\n",
    "tail_number = close_raw0.apply(\n",
    "    lambda s: s.loc[s.index.intersection(stk_pool_by_date.loc[s.name])].apply(\n",
    "        lambda x: int(x*100%10) if not np.isnan(x) else -1),\n",
    "    axis=1\n",
    ").shift(1).loc[begin_date:]  # 昨日收盘的尾数\n",
    "tail_number2 = close_raw0.apply(\n",
    "    lambda s: s.loc[s.index.intersection(stk_pool_by_date.loc[s.name])].apply(\n",
    "        lambda x: int(x*100%100) // 5 * 5 if not np.isnan(x) else -1),\n",
    "    axis=1\n",
    ").shift(1).loc[begin_date:]  # 昨日收盘的尾数2\n",
    "df01 = tail_number.stack().reset_index()\n",
    "df01.columns = ['trade_date', 'stock_code', 'DP']\n",
    "df02 = tail_number2.stack().reset_index()\n",
    "df02.columns = ['trade_date', 'stock_code', 'DP2']\n",
    "del tail_number, tail_number2\n",
    "\n",
    "panel = panel.merge(df01, on=['trade_date', 'stock_code'], how='left')\n",
    "panel = panel.merge(df02, on=['trade_date', 'stock_code'], how='left')\n",
    "del df01, df02\n",
    "\n",
    "\n",
    "df = close_raw0.applymap(lambda x: int(x) if not np.isnan(x) else x)\n",
    "sgn1 = (df > df.shift(1)).loc[begin_date:]  # 当日收盘相比昨日收盘，向上跨越了整数位\n",
    "sgn2 = (df < df.shift(1)).loc[begin_date:]  # 当日收盘相比昨日收盘，向下跨越了整数位\n",
    "sgn3 = (df.shift(-1) > df).loc[begin_date:]  # 明日收盘相比今日收盘，向上跨越了整数位\n",
    "sgn4 = (df.shift(-1) < df).loc[begin_date:]  # 明日收盘相比今日收盘，向下跨越了整数位\n",
    "del df\n",
    "\n",
    "for df, kw in zip([sgn1, sgn2, sgn3, sgn4], ['AP', 'AD', 'BP', 'BD']):\n",
    "    df = df.apply(\n",
    "        lambda s: s.loc[s.index.intersection(stk_pool_by_date.loc[s.name])], axis=1\n",
    "    ).stack().reset_index()\n",
    "    df.columns = ['trade_date', 'stock_code', kw]\n",
    "    panel = panel.merge(df, on=['trade_date', 'stock_code'], how='left')\n",
    "    \n",
    "del sgn1, sgn2, sgn3, sgn4\n",
    "del close_raw0"
   ]
  },
  {
   "cell_type": "code",
   "execution_count": 10,
   "metadata": {},
   "outputs": [
    {
     "name": "stdout",
     "output_type": "stream",
     "text": [
      "        观测数   C2C_均值  C2C_中位数  C2C_t值  C2O_均值  C2O_中位数  C2O_t值\n",
      "DP                                                            \n",
      "0   7748160  -0.021%  -0.235%  -24.34  0.025%  -0.001%   65.87\n",
      "1   5681280  -0.008%  -0.225%   -8.79  0.037%   0.001%   85.24\n",
      "2   5635136  -0.003%  -0.237%   -2.63  0.030%  -0.003%   68.31\n",
      "3   5606912  -0.012%  -0.233%  -12.06  0.030%  -0.004%   67.24\n",
      "4   5521408  -0.029%  -0.240%  -30.05  0.016%  -0.011%   36.99\n",
      "5   6275008  -0.012%  -0.222%  -13.62  0.017%  -0.009%   41.03\n",
      "6   5583744  -0.017%  -0.228%  -17.35  0.024%  -0.002%   53.50\n",
      "7   5578176  -0.020%  -0.228%  -21.12  0.018%  -0.006%   41.25\n",
      "8   6171392  -0.023%  -0.235%  -25.21  0.012%  -0.007%   29.21\n",
      "9   6201984  -0.020%  -0.228%  -21.33  0.019%  -0.006%   44.65\n"
     ]
    }
   ],
   "source": [
    "df = panel.groupby('DP').agg(\n",
    "    观测数 = ('DP', 'count'),\n",
    "    C2C_均值 = ('ACC', 'mean'),\n",
    "    C2C_中位数 = ('ACC', 'median'),\n",
    "    C2C_t值 = ('ACC', lambda x: x.mean()/x.std()*np.sqrt(x.count())),\n",
    "    C2O_均值 = ('AOC', 'mean'),\n",
    "    C2O_中位数 = ('AOC', 'median'),\n",
    "    C2O_t值 = ('AOC', lambda x: x.mean()/x.std()*np.sqrt(x.count())),\n",
    ")\n",
    "\n",
    "df = df.loc[df.index>=0]\n",
    "df.index = df.index.to_series().astype(int)\n",
    "\n",
    "df_repr = df.applymap(lambda x: f'{x*100:2.3f}%' if abs(x) < 0.01 else round(x, 2) if isinstance(x, float) else x)\n",
    "# print(df_repr.to_markdown())\n",
    "print(df_repr)\n",
    "\n",
    "df_repr.to_csv(conf['path']['demo']+'lucky_number/'+'价格尾数（分位）与随后的股票收益率.csv')\n",
    "df.to_excel(conf['path']['demo']+'lucky_number/'+'价格尾数（分位）与随后的股票收益率.xlsx')\n",
    "table03 = df.copy()\n",
    "del df, df_repr"
   ]
  },
  {
   "cell_type": "code",
   "execution_count": 11,
   "metadata": {},
   "outputs": [
    {
     "name": "stdout",
     "output_type": "stream",
     "text": [
      "           观测数   C2C_均值  C2C_中位数  C2C_t值  C2O_均值  C2O_中位数  C2O_t值\n",
      "DP2                                                              \n",
      "00~04  3337536  -0.022%  -0.245%  -17.14  0.051%   0.011%   87.34\n",
      "05~09  3118016  -0.026%  -0.223%  -20.15  0.028%   0.006%   48.79\n",
      "10~14  3085440  -0.015%  -0.232%  -11.70  0.041%   0.003%   68.85\n",
      "15~19  3227584  -0.024%  -0.221%  -19.09  0.030%   0.006%   55.11\n",
      "20~24  2940864  -0.008%  -0.234%   -5.69  0.029%   0.003%   48.00\n",
      "25~29  3081472  -0.042%  -0.244%  -32.62  0.010%  -0.010%   17.40\n",
      "30~34  2955136   0.005%  -0.238%    3.88  0.031%  -0.004%   51.37\n",
      "35~39  2994176  -0.001%  -0.234%   -0.58  0.016%  -0.010%   25.19\n",
      "40~44  2902592   0.010%  -0.229%    7.51  0.036%  -0.001%   57.13\n",
      "45~49  2783616   0.004%  -0.221%    2.82  0.013%  -0.007%   20.92\n",
      "50~54  3001728  -0.009%  -0.234%   -6.78  0.021%  -0.007%   33.96\n",
      "55~59  2801536  -0.020%  -0.242%  -14.25  0.021%  -0.009%   32.74\n",
      "60~64  2888192  -0.027%  -0.236%  -19.43  0.023%  -0.002%   37.19\n",
      "65~69  2902784  -0.043%  -0.235%  -31.99  0.011%  -0.008%   18.97\n",
      "70~74  2916224  -0.015%  -0.227%  -10.79  0.015%  -0.010%   24.66\n",
      "75~79  2937792  -0.006%  -0.212%   -4.84  0.021%  -0.012%   33.59\n",
      "80~84  3078272  -0.040%  -0.239%  -30.96  0.013%  -0.011%   21.62\n",
      "85~89  3028736  -0.012%  -0.223%   -8.94  0.011%  -0.007%   18.26\n",
      "90~94  3086912  -0.026%  -0.229%  -20.24  0.015%  -0.016%   24.86\n",
      "95~99  2934592  -0.014%  -0.229%  -10.04  0.015%  -0.012%   24.85\n"
     ]
    }
   ],
   "source": [
    "df = panel.groupby('DP2').agg(\n",
    "    观测数 = ('DP2', 'count'),\n",
    "    C2C_均值 = ('ACC', 'mean'),\n",
    "    C2C_中位数 = ('ACC', 'median'),\n",
    "    C2C_t值 = ('ACC', lambda x: x.mean()/x.std()*np.sqrt(x.count())),\n",
    "    C2O_均值 = ('AOC', 'mean'),\n",
    "    C2O_中位数 = ('AOC', 'median'),\n",
    "    C2O_t值 = ('AOC', lambda x: x.mean()/x.std()*np.sqrt(x.count())),\n",
    ")\n",
    "\n",
    "df = df.loc[df.index>=0]\n",
    "df.index = df.index.to_series().apply(lambda x: f'{int(x):02d}~{int(x)+4:02d}')\n",
    "\n",
    "df_repr = df.applymap(lambda x: f'{x*100:2.3f}%' if abs(x) < 0.01 else round(x, 2) if isinstance(x, float) else x)\n",
    "# print(df_repr.to_markdown())\n",
    "print(df_repr)\n",
    "\n",
    "df_repr.to_csv(conf['path']['demo']+'lucky_number/'+'价格尾数（毛、分位）与随后的股票收益率.csv')\n",
    "df.to_excel(conf['path']['demo']+'lucky_number/'+'价格尾数（毛、分位）与随后的股票收益率.xlsx')\n",
    "table04 = df.copy()\n",
    "del df, df_repr"
   ]
  },
  {
   "cell_type": "markdown",
   "metadata": {},
   "source": [
    "## 回归"
   ]
  },
  {
   "cell_type": "code",
   "execution_count": 12,
   "metadata": {},
   "outputs": [],
   "source": [
    "panel = panel[['trade_date', 'stock_code', 'ACC', 'ACC_L1', 'AP', 'AD', 'BP', 'BD']].dropna()"
   ]
  },
  {
   "cell_type": "code",
   "execution_count": 13,
   "metadata": {},
   "outputs": [],
   "source": [
    "import statsmodels.formula.api as smf"
   ]
  },
  {
   "cell_type": "code",
   "execution_count": 14,
   "metadata": {},
   "outputs": [],
   "source": [
    "res = panel.groupby('stock_code').apply(\n",
    "    lambda s: smf.ols(formula='ACC ~ ACC_L1 + AP + AD + BP + BD', data=s.dropna()).fit().params[1:]\n",
    ")"
   ]
  },
  {
   "cell_type": "code",
   "execution_count": 15,
   "metadata": {},
   "outputs": [],
   "source": [
    "df = res.apply(['count', 'mean', lambda x: x.mean()/x.std()*np.sqrt(x.count())]).T\n",
    "df.columns = ['N', '均值', 't值']\n",
    "df['N'] = df['N'].astype(int)\n",
    "df.index = ['AP', 'AD', \n",
    "            'BP', 'BD', \n",
    "            'R_{t-1}']\n",
    "df.index.name = '对应系数'\n",
    "df['备注'] = ['时间t价格向上跨越整数价位', '时间t价格向下跨越整数价位', \n",
    "             '时间t+1价格向上跨越整数价位', '时间t+1价格向下跨越整数价位', \n",
    "             '时间t-1期的收益率']\n",
    "df_repr = df.round({'N': 0, '均值': 3, 't值': 2})\n",
    "\n",
    "df.to_excel(conf['path']['demo'] + 'lucky_number/回归系数.xlsx')\n",
    "df_repr.to_csv(conf['path']['demo'] + 'lucky_number/回归系数.csv')\n",
    "table05 = df.copy()"
   ]
  },
  {
   "cell_type": "code",
   "execution_count": 16,
   "metadata": {},
   "outputs": [
    {
     "name": "stdout",
     "output_type": "stream",
     "text": [
      "            N     均值     t值               备注\n",
      "对应系数                                        \n",
      "AP       1132  0.029  95.12    时间t价格向上跨越整数价位\n",
      "AD       1132 -0.021 -90.71    时间t价格向下跨越整数价位\n",
      "BP       1132  0.006  34.80  时间t+1价格向上跨越整数价位\n",
      "BD       1132 -0.004 -29.25  时间t+1价格向下跨越整数价位\n",
      "R_{t-1}  1132  0.019  10.15       时间t-1期的收益率\n"
     ]
    }
   ],
   "source": [
    "print(df_repr)"
   ]
  },
  {
   "cell_type": "markdown",
   "metadata": {},
   "source": [
    "---\n",
    "\n",
    "Reference: 岳衡, & 赵龙凯. (2007). 股票价格中的数字与行为金融. 金融研究, *5*, 98–107."
   ]
  }
 ],
 "metadata": {
  "kernelspec": {
   "display_name": "Python 3.11.0 - tushare",
   "language": "python",
   "name": "tushare"
  },
  "language_info": {
   "codemirror_mode": {
    "name": "ipython",
    "version": 3
   },
   "file_extension": ".py",
   "mimetype": "text/x-python",
   "name": "python",
   "nbconvert_exporter": "python",
   "pygments_lexer": "ipython3",
   "version": "3.11.0"
  }
 },
 "nbformat": 4,
 "nbformat_minor": 4
}
