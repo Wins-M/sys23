{
 "cells": [
  {
   "cell_type": "code",
   "execution_count": 1,
   "metadata": {
    "ExecuteTime": {
     "end_time": "2023-04-18T01:39:58.651452Z",
     "start_time": "2023-04-18T01:39:58.644302Z"
    },
    "collapsed": false,
    "jupyter": {
     "outputs_hidden": false
    }
   },
   "outputs": [],
   "source": [
    "import os\n",
    "import sys\n",
    "\n",
    "_PATH = '/Users/winston/mygitrep/sys23/'  # TODO\n",
    "os.chdir(_PATH)\n",
    "sys.path.append(_PATH)"
   ]
  },
  {
   "cell_type": "code",
   "execution_count": 2,
   "metadata": {
    "ExecuteTime": {
     "end_time": "2023-04-18T01:45:26.280396Z",
     "start_time": "2023-04-18T01:45:26.277550Z"
    },
    "collapsed": false,
    "jupyter": {
     "outputs_hidden": false
    }
   },
   "outputs": [],
   "source": [
    "import warnings\n",
    "warnings.simplefilter(\"ignore\")\n",
    "%matplotlib inline\n",
    "import matplotlib.pyplot as plt\n",
    "import seaborn\n",
    "# seaborn.set_style(\"darkgrid\")\n",
    "seaborn.set_style(\"whitegrid\")\n",
    "plt.rc(\"figure\", figsize=(16, 6))\n",
    "# plt.rc(\"figure\", figsize=(6, 3))\n",
    "plt.rc(\"savefig\", dpi=90)\n",
    "# plt.rc(\"font\", family=\"sans-serif\")\n",
    "plt.rcParams['font.sans-serif'] = ['Arial Unicode MS']\n",
    "plt.rc(\"font\", size=12)\n",
    "# plt.rc(\"font\", size=10)\n",
    "plt.rcParams[\"date.autoformatter.hour\"] = \"%H:%M:%S\""
   ]
  },
  {
   "cell_type": "code",
   "execution_count": 3,
   "metadata": {
    "ExecuteTime": {
     "end_time": "2023-04-18T03:07:42.558355Z",
     "start_time": "2023-04-18T03:07:42.540205Z"
    },
    "collapsed": false,
    "jupyter": {
     "outputs_hidden": false
    }
   },
   "outputs": [],
   "source": [
    "from api.load_tushare import conf_init, next_calendar_date\n",
    "import pandas as pd\n",
    "import numpy as np\n",
    "\n",
    "config_path = f'{_PATH}/config_stk.yaml'\n",
    "conf = conf_init(conf_path=config_path)\n",
    "\n",
    "# begin_date = '2015-01-01'\n",
    "begin_date = '2018-01-01'\n",
    "end_date = '2022-12-31'\n",
    "bd_1 = next_calendar_date(begin_date, delta=-5, lfmt='%Y-%m-%d', rfmt='%Y-%m-%d')"
   ]
  },
  {
   "cell_type": "code",
   "execution_count": 4,
   "metadata": {
    "ExecuteTime": {
     "end_time": "2023-04-18T03:07:16.411455Z",
     "start_time": "2023-04-18T03:07:16.406772Z"
    },
    "collapsed": false,
    "jupyter": {
     "outputs_hidden": false
    }
   },
   "outputs": [
    {
     "data": {
      "text/plain": [
       "dict_keys(['status', 'tushare_token', 'api_path', 'path', 'year_length', 'csi_pool'])"
      ]
     },
     "execution_count": 4,
     "metadata": {},
     "output_type": "execute_result"
    }
   ],
   "source": [
    "conf.keys()"
   ]
  },
  {
   "cell_type": "markdown",
   "metadata": {
    "tags": []
   },
   "source": [
    "## 各指数内统计"
   ]
  },
  {
   "cell_type": "code",
   "execution_count": 5,
   "metadata": {
    "ExecuteTime": {
     "end_time": "2023-04-18T02:00:58.535083Z",
     "start_time": "2023-04-18T02:00:58.530677Z"
    },
    "collapsed": false,
    "jupyter": {
     "outputs_hidden": false
    }
   },
   "outputs": [
    {
     "data": {
      "text/plain": [
       "{'CSI300': '399300.SZ',\n",
       " 'CSI500': '000905.SH',\n",
       " 'CSI800': '000906.SH',\n",
       " 'CSI1000': '000852.SH'}"
      ]
     },
     "execution_count": 5,
     "metadata": {},
     "output_type": "execute_result"
    }
   ],
   "source": [
    "conf['csi_pool']"
   ]
  },
  {
   "cell_type": "code",
   "execution_count": 6,
   "metadata": {
    "ExecuteTime": {
     "end_time": "2023-04-18T02:12:26.104670Z",
     "start_time": "2023-04-18T02:12:14.162328Z"
    },
    "collapsed": false,
    "jupyter": {
     "outputs_hidden": false
    }
   },
   "outputs": [
    {
     "name": "stdout",
     "output_type": "stream",
     "text": [
      "    CSI300           CSI500           CSI800          CSI1000        \n",
      "      出现次数      频率     出现次数      频率     出现次数      频率     出现次数      频率\n",
      "DP                                                                   \n",
      "0   110336   15.1%   154912   12.7%   265248   13.6%   322284   13.3%\n",
      "1    67056    9.2%   114158    9.4%   181214    9.3%   225170    9.3%\n",
      "2    65884    9.0%   112724    9.3%   178608    9.2%   223550    9.2%\n",
      "3    64392    8.8%   113622    9.4%   178014    9.2%   224836    9.3%\n",
      "4    62588    8.6%   110704    9.1%   173292    8.9%   216682    8.9%\n",
      "5    77042   10.6%   126268   10.4%   203310   10.5%   252540   10.4%\n",
      "6    64510    8.8%   112666    9.3%   177176    9.1%   224664    9.2%\n",
      "7    63986    8.8%   110744    9.1%   174730    9.0%   219350    9.0%\n",
      "8    73568   10.1%   123376   10.2%   196944   10.1%   249162   10.3%\n",
      "9    73518   10.1%   122210   10.1%   195728   10.1%   243114   10.0%\n",
      "缺失    6120    0.8%    13616    1.1%    19736    1.0%    28648    1.2%\n",
      "总计  729000  100.0%  1215000  100.0%  1944000  100.0%  2430000  100.0%\n"
     ]
    }
   ],
   "source": [
    "close_raw = pd.read_csv(conf['path']['close'], index_col=0, parse_dates=True).loc[begin_date:end_date]\n",
    "\n",
    "tmp = []\n",
    "for kind_pool in conf['csi_pool'].keys():\n",
    "\n",
    "    stk_pool = pd.read_csv(\n",
    "        conf['path'][kind_pool], index_col=0, parse_dates=True\n",
    "    ).loc[begin_date:end_date]\n",
    "\n",
    "    stk_pool_by_date = stk_pool.apply(lambda x: x[x>0].index.to_list(), axis=1)\n",
    "\n",
    "    df = close_raw.apply(\n",
    "        lambda s: s.loc[set(s.index).intersection(set(stk_pool_by_date.loc[s.name]))].apply(\n",
    "            lambda x: int(x*100%10) if not np.isnan(x) else 99\n",
    "        ).value_counts(),\n",
    "        axis=1\n",
    "    )\n",
    "    df1 = df.sum().rename((kind_pool, '出现次数'))\n",
    "    df1.rename(index={99: '缺失'}, inplace=True)\n",
    "    df2 = (df1 / df1.sum()).rename((kind_pool, '频率'))\n",
    "    tmp.append(df1)\n",
    "    tmp.append(df2)\n",
    "del df1, df2\n",
    "df = pd.concat(tmp, axis=1)\n",
    "del tmp\n",
    "df.loc['总计'] = df.sum()\n",
    "df.index.name = 'DP'\n",
    "df_repr = df.applymap(\n",
    "    lambda x: str(int(x)) if x > 2 else f'{x * 100:2.1f}%')\n",
    "df.to_excel(f\"{conf['path']['demo']}lucky_number/样本数量及其分布_ALL.xlsx\")\n",
    "df_repr.to_csv(f\"{conf['path']['demo']}lucky_number/样本数量及其分布_ALL.csv\")\n",
    "print(df_repr)\n",
    "\n",
    "table01 = df.copy()\n",
    "del df, df_repr, close_raw"
   ]
  },
  {
   "cell_type": "markdown",
   "metadata": {},
   "source": [
    "## CSI500"
   ]
  },
  {
   "cell_type": "code",
   "execution_count": 7,
   "metadata": {
    "ExecuteTime": {
     "end_time": "2023-04-18T03:09:40.446618Z",
     "start_time": "2023-04-18T03:09:40.191968Z"
    },
    "collapsed": false,
    "jupyter": {
     "outputs_hidden": false
    }
   },
   "outputs": [],
   "source": [
    "kind_pool = 'CSI500'\n",
    "\n",
    "stk_pool = pd.read_csv(\n",
    "    conf['path'][kind_pool], index_col=0, parse_dates=True\n",
    ").loc[bd_1:end_date]\n",
    "\n",
    "\n",
    "stk_pool_by_date = stk_pool.apply(lambda x: x[x>0].index.to_list(), axis=1)\n",
    "del stk_pool"
   ]
  },
  {
   "cell_type": "code",
   "execution_count": 8,
   "metadata": {
    "ExecuteTime": {
     "end_time": "2023-04-18T03:09:56.433431Z",
     "start_time": "2023-04-18T03:09:53.078044Z"
    },
    "collapsed": false,
    "jupyter": {
     "outputs_hidden": false
    }
   },
   "outputs": [],
   "source": [
    "close_raw = pd.read_csv(conf['path']['close'], index_col=0, parse_dates=True).loc[begin_date:end_date]\n",
    "\n",
    "df = close_raw.apply(\n",
    "    lambda s: s.loc[s.index.intersection(stk_pool_by_date.loc[s.name])].apply(\n",
    "        lambda x: int(x*100%10) if not np.isnan(x) else 99\n",
    "    ).value_counts(),\n",
    "    axis=1\n",
    ")\n",
    "del close_raw\n",
    "# df.isna().sum(axis=1).cumsum().plot(title=f'{kind_pool}日股价缺失数量累积')\n",
    "# plt.show()\n",
    "\n",
    "grouped = df.groupby(df.index.to_series().apply(lambda x: x.year))\n",
    "appr_cnt = grouped.apply(sum)\n",
    "appr_freq = appr_cnt.apply(lambda s: s / s.sum(), axis=1)\n",
    "appr_cnt_freq = pd.concat(\n",
    "    [appr_cnt.stack().rename('出现次数'),\n",
    "     appr_freq.stack().rename('频率')],\n",
    "    axis=1\n",
    ").reset_index()\n",
    "appr_cnt_freq.columns = ['年份', 'DP', '出现次数', '频率']\n",
    "appr_cnt_freq = appr_cnt_freq.pivot(index='DP', columns=['年份'], values=['出现次数', '频率'])\n",
    "\n",
    "appr_cnt_freq = appr_cnt_freq.reset_index()\n",
    "cols = [('DP', '')]\n",
    "for year in range(int(begin_date[:4]), int(end_date[:4])+1):\n",
    "    cols += [('出现次数', year), ('频率', year)]\n",
    "\n",
    "appr_cnt_freq = appr_cnt_freq[cols].set_index('DP')\n",
    "appr_cnt_freq.columns.names = [None, None]\n",
    "appr_cnt_freq.rename(index={99: '缺失'}, inplace=True)\n",
    "appr_cnt_freq.loc['总计'] = appr_cnt_freq.sum()\n",
    "\n",
    "appr_cnt_freq_repr = appr_cnt_freq.applymap(\n",
    "    lambda x: str(int(x)) if x > 1 else f'{x * 100:2.1f}%')\n",
    "appr_cnt_freq.to_excel(f\"{conf['path']['demo']}lucky_number/样本数量及其分布_{kind_pool}.xlsx\")\n",
    "appr_cnt_freq_repr.to_csv(f\"{conf['path']['demo']}lucky_number/样本数量及其分布_{kind_pool}.csv\")\n",
    "\n",
    "table02 = appr_cnt_freq.copy()\n",
    "del df, grouped, appr_cnt, appr_freq, appr_cnt_freq, appr_cnt_freq_repr\n",
    "# appr_cnt_freq_repr"
   ]
  },
  {
   "cell_type": "code",
   "execution_count": 9,
   "metadata": {
    "ExecuteTime": {
     "end_time": "2023-04-18T03:19:09.021444Z",
     "start_time": "2023-04-18T03:19:01.909626Z"
    },
    "collapsed": false,
    "jupyter": {
     "outputs_hidden": false
    }
   },
   "outputs": [],
   "source": [
    "close_adj: pd.DataFrame = pd.read_csv(\n",
    "    conf['path']['closeAdj'], index_col=0, parse_dates=True).loc[bd_1: end_date]\n",
    "open_adj: pd.DataFrame = pd.read_csv(\n",
    "    conf['path']['openAdj'], index_col=0, parse_dates=True).loc[bd_1: end_date]\n",
    "rtn_c2c = close_adj.pct_change().loc[begin_date:]  # T-1 close to T0 close\n",
    "rtn_c2c_lag1 = close_adj.pct_change().shift(1).loc[begin_date:]  # T-2 close to T-1 close\n",
    "rtn_c2o = (open_adj / close_adj.shift(1) - 1).loc[begin_date:]  # T-1 close to T0 open\n",
    "del close_adj, open_adj\n",
    "\n",
    "# 直接去除涨跌停\n",
    "rtn_c2o[rtn_c2o > 0.101] = np.nan\n",
    "rtn_c2o[rtn_c2o < -0.101] = np.nan\n",
    "rtn_c2c_lag1[rtn_c2c_lag1 > 0.101] = np.nan\n",
    "rtn_c2c_lag1[rtn_c2c_lag1 < -0.101] = np.nan\n",
    "rtn_c2c[rtn_c2c > 0.101] = np.nan\n",
    "rtn_c2c[rtn_c2c < -0.101] = np.nan\n",
    "\n",
    "# 超额收益率\n",
    "rtn_c2o = rtn_c2o.apply(lambda s : s - s.mean(), axis=1)\n",
    "rtn_c2c = rtn_c2c.apply(lambda s : s - s.mean(), axis=1)\n",
    "rtn_c2c_lag1 = rtn_c2c_lag1.apply(lambda s : s - s.mean(), axis=1)\n",
    "\n",
    "df1 = rtn_c2o.apply(lambda s: s.loc[s.index.intersection(\n",
    "    stk_pool_by_date.loc[s.name])],axis=1).stack().reset_index()\n",
    "df1.columns = ['trade_date', 'stock_code', 'AOC']\n",
    "df2 = rtn_c2c.apply(lambda s: s.loc[s.index.intersection(\n",
    "    stk_pool_by_date.loc[s.name])],axis=1).stack().reset_index()\n",
    "df2.columns = ['trade_date', 'stock_code', 'ACC']\n",
    "# plt.plot(df1.groupby('trade_date').count().iloc[:, 0], label='c2o')\n",
    "# plt.plot(df2.groupby('trade_date').count().iloc[:, 0], label='c2c')\n",
    "# plt.legend()\n",
    "# plt.title('CSI500收益率得不到');\n",
    "panel: pd.DataFrame = df1.merge(df2, on=['trade_date', 'stock_code'], how='outer')\n",
    "del df1, df2, rtn_c2c, rtn_c2o\n",
    "\n",
    "df = rtn_c2c_lag1.apply(lambda s: s.loc[s.index.intersection(\n",
    "    stk_pool_by_date.loc[s.name])], axis=1).stack().reset_index()\n",
    "df.columns = ['trade_date', 'stock_code', 'ACC_L1']\n",
    "panel = panel.merge(df, on=['trade_date', 'stock_code'], how='left')\n",
    "del df, rtn_c2c_lag1\n",
    "\n",
    "close_raw0 = pd.read_csv(conf['path']['close'], index_col=0, parse_dates=True).loc[bd_1:end_date]\n",
    "tail_number = close_raw0.apply(\n",
    "    lambda s: s.loc[s.index.intersection(stk_pool_by_date.loc[s.name])].apply(\n",
    "        lambda x: int(x*100%10) if not np.isnan(x) else -1),\n",
    "    axis=1\n",
    ").shift(1).loc[begin_date:]  # 昨日收盘的尾数\n",
    "tail_number2 = close_raw0.apply(\n",
    "    lambda s: s.loc[s.index.intersection(stk_pool_by_date.loc[s.name])].apply(\n",
    "        lambda x: int(x*100%100) // 5 * 5 if not np.isnan(x) else -1),\n",
    "    axis=1\n",
    ").shift(1).loc[begin_date:]  # 昨日收盘的尾数2\n",
    "df01 = tail_number.stack().reset_index()\n",
    "df01.columns = ['trade_date', 'stock_code', 'DP']\n",
    "df02 = tail_number2.stack().reset_index()\n",
    "df02.columns = ['trade_date', 'stock_code', 'DP2']\n",
    "del tail_number, tail_number2\n",
    "\n",
    "panel = panel.merge(df01, on=['trade_date', 'stock_code'], how='left')\n",
    "panel = panel.merge(df02, on=['trade_date', 'stock_code'], how='left')\n",
    "del df01, df02\n",
    "\n",
    "\n",
    "df = close_raw0.applymap(lambda x: int(x) if not np.isnan(x) else x)\n",
    "sgn1 = (df > df.shift(1)).loc[begin_date:]  # 当日收盘相比昨日收盘，向上跨越了整数位\n",
    "sgn2 = (df < df.shift(1)).loc[begin_date:]  # 当日收盘相比昨日收盘，向下跨越了整数位\n",
    "sgn3 = (df.shift(-1) > df).loc[begin_date:]  # 明日收盘相比今日收盘，向上跨越了整数位\n",
    "sgn4 = (df.shift(-1) < df).loc[begin_date:]  # 明日收盘相比今日收盘，向下跨越了整数位\n",
    "del df\n",
    "\n",
    "for df, kw in zip([sgn1, sgn2, sgn3, sgn4], ['AP', 'AD', 'BP', 'BD']):\n",
    "    df = df.apply(\n",
    "        lambda s: s.loc[s.index.intersection(stk_pool_by_date.loc[s.name])], axis=1\n",
    "    ).stack().reset_index()\n",
    "    df.columns = ['trade_date', 'stock_code', kw]\n",
    "    panel = panel.merge(df, on=['trade_date', 'stock_code'], how='left')\n",
    "    \n",
    "del sgn1, sgn2, sgn3, sgn4\n",
    "del close_raw0"
   ]
  },
  {
   "cell_type": "code",
   "execution_count": 10,
   "metadata": {},
   "outputs": [
    {
     "name": "stdout",
     "output_type": "stream",
     "text": [
      "        观测数   C2C_均值  C2C_中位数  C2C_t值  C2O_均值  C2O_中位数  C2O_t值\n",
      "DP                                                            \n",
      "0   4952320  -0.009%  -0.205%   -8.23  0.029%   0.008%   62.70\n",
      "1   3649792   0.023%  -0.182%   19.55  0.039%   0.009%   73.27\n",
      "2   3604352   0.026%  -0.198%   21.61  0.033%   0.005%   62.02\n",
      "3   3631104   0.002%  -0.207%    1.70  0.039%   0.005%   71.26\n",
      "4   3538304  -0.001%  -0.195%   -0.99  0.019%  -0.002%   35.66\n",
      "5   4036992  -0.002%  -0.189%   -1.42  0.022%   0.002%   44.08\n",
      "6   3600256  -0.002%  -0.195%   -1.81  0.029%   0.009%   55.86\n",
      "7   3540032   0.005%  -0.189%    4.47  0.030%   0.005%   55.42\n",
      "8   3944448  -0.005%  -0.195%   -4.67  0.018%   0.002%   35.07\n",
      "9   3908224   0.001%  -0.196%    1.08  0.029%   0.007%   56.18\n"
     ]
    }
   ],
   "source": [
    "df = panel.groupby('DP').agg(\n",
    "    观测数 = ('DP', 'count'),\n",
    "    C2C_均值 = ('ACC', 'mean'),\n",
    "    C2C_中位数 = ('ACC', 'median'),\n",
    "    C2C_t值 = ('ACC', lambda x: x.mean()/x.std()*np.sqrt(x.count())),\n",
    "    C2O_均值 = ('AOC', 'mean'),\n",
    "    C2O_中位数 = ('AOC', 'median'),\n",
    "    C2O_t值 = ('AOC', lambda x: x.mean()/x.std()*np.sqrt(x.count())),\n",
    ")\n",
    "\n",
    "df = df.loc[df.index>=0]\n",
    "df.index = df.index.to_series().astype(int)\n",
    "\n",
    "df_repr = df.applymap(lambda x: f'{x*100:2.3f}%' if abs(x) < 0.01 else round(x, 2) if isinstance(x, float) else x)\n",
    "# print(df_repr.to_markdown())\n",
    "print(df_repr)\n",
    "\n",
    "df_repr.to_csv(conf['path']['demo']+'价格尾数（分位）与随后的股票收益率.csv')\n",
    "df.to_excel(conf['path']['demo']+'价格尾数（分位）与随后的股票收益率.xlsx')\n",
    "table03 = df.copy()\n",
    "del df, df_repr"
   ]
  },
  {
   "cell_type": "code",
   "execution_count": 11,
   "metadata": {},
   "outputs": [
    {
     "name": "stdout",
     "output_type": "stream",
     "text": [
      "           观测数   C2C_均值  C2C_中位数  C2C_t值  C2O_均值  C2O_中位数  C2O_t值\n",
      "DP2                                                              \n",
      "00~04  2154304   0.005%  -0.199%    3.07  0.050%   0.018%   70.43\n",
      "05~09  2015552   0.001%  -0.184%    0.68  0.038%   0.016%   55.04\n",
      "10~14  1954496   0.004%  -0.198%    2.70  0.045%   0.012%   62.55\n",
      "15~19  2062144  -0.007%  -0.184%   -4.53  0.036%   0.020%   54.16\n",
      "20~24  1884800   0.017%  -0.201%   10.23  0.035%   0.013%   47.34\n",
      "25~29  1960832  -0.023%  -0.201%  -14.20  0.014%  -0.002%   19.44\n",
      "30~34  1884288   0.031%  -0.190%   18.51  0.030%   0.004%   39.75\n",
      "35~39  1889856   0.011%  -0.189%    6.41  0.018%   0.001%   24.01\n",
      "40~44  1855360   0.017%  -0.209%    9.87  0.038%   0.007%   50.96\n",
      "45~49  1764544   0.026%  -0.182%   15.08  0.025%   0.004%   31.69\n",
      "50~54  1932864   0.007%  -0.199%    4.44  0.028%   0.005%   36.42\n",
      "55~59  1798144  -0.019%  -0.215%  -10.90  0.023%  -0.000%   29.22\n",
      "60~64  1856192  -0.006%  -0.195%   -3.44  0.029%   0.005%   38.25\n",
      "65~69  1893952  -0.026%  -0.210%  -15.86  0.016%   0.002%   22.18\n",
      "70~74  1890432   0.012%  -0.193%    7.33  0.016%  -0.005%   21.88\n",
      "75~79  1872448   0.019%  -0.184%   11.11  0.034%   0.000%   44.83\n",
      "80~84  1980480  -0.012%  -0.198%   -7.43  0.024%   0.002%   32.83\n",
      "85~89  1917248   0.003%  -0.192%    1.73  0.017%   0.005%   23.97\n",
      "90~94  1982656  -0.003%  -0.195%   -2.13  0.021%  -0.005%   29.08\n",
      "95~99  1855232   0.011%  -0.186%    6.77  0.032%  -0.002%   43.00\n"
     ]
    }
   ],
   "source": [
    "df = panel.groupby('DP2').agg(\n",
    "    观测数 = ('DP2', 'count'),\n",
    "    C2C_均值 = ('ACC', 'mean'),\n",
    "    C2C_中位数 = ('ACC', 'median'),\n",
    "    C2C_t值 = ('ACC', lambda x: x.mean()/x.std()*np.sqrt(x.count())),\n",
    "    C2O_均值 = ('AOC', 'mean'),\n",
    "    C2O_中位数 = ('AOC', 'median'),\n",
    "    C2O_t值 = ('AOC', lambda x: x.mean()/x.std()*np.sqrt(x.count())),\n",
    ")\n",
    "\n",
    "df = df.loc[df.index>=0]\n",
    "df.index = df.index.to_series().apply(lambda x: f'{int(x):02d}~{int(x)+4:02d}')\n",
    "\n",
    "df_repr = df.applymap(lambda x: f'{x*100:2.3f}%' if abs(x) < 0.01 else round(x, 2) if isinstance(x, float) else x)\n",
    "# print(df_repr.to_markdown())\n",
    "print(df_repr)\n",
    "\n",
    "df_repr.to_csv(conf['path']['demo']+'价格尾数（毛、分位）与随后的股票收益率.csv')\n",
    "df.to_excel(conf['path']['demo']+'价格尾数（毛、分位）与随后的股票收益率.xlsx')\n",
    "table04 = df.copy()\n",
    "del df, df_repr"
   ]
  },
  {
   "cell_type": "markdown",
   "metadata": {},
   "source": [
    "## 回归"
   ]
  },
  {
   "cell_type": "code",
   "execution_count": 12,
   "metadata": {},
   "outputs": [],
   "source": [
    "panel = panel[['trade_date', 'stock_code', 'ACC', 'ACC_L1', 'AP', 'AD', 'BP', 'BD']].dropna()"
   ]
  },
  {
   "cell_type": "code",
   "execution_count": 13,
   "metadata": {},
   "outputs": [],
   "source": [
    "import statsmodels.formula.api as smf"
   ]
  },
  {
   "cell_type": "code",
   "execution_count": 14,
   "metadata": {},
   "outputs": [],
   "source": [
    "res = panel.groupby('stock_code').apply(\n",
    "    lambda s: smf.ols(formula='ACC ~ ACC_L1 + AP + AD + BP + BD', data=s.dropna()).fit().params[1:]\n",
    ")"
   ]
  },
  {
   "cell_type": "code",
   "execution_count": 15,
   "metadata": {},
   "outputs": [],
   "source": [
    "df = res.apply(['count', 'mean', lambda x: x.mean()/x.std()*np.sqrt(x.count())]).T\n",
    "df.columns = ['N', '均值', 't值']\n",
    "df['N'] = df['N'].astype(int)\n",
    "df.index = ['AP', 'AD', \n",
    "            'BP', 'BD', \n",
    "            'R_{t-1}']\n",
    "df.index.name = '对应系数'\n",
    "df['备注'] = ['时间t价格向上跨越整数价位', '时间t价格向下跨越整数价位', \n",
    "             '时间t+1价格向上跨越整数价位', '时间t+1价格向下跨越整数价位', \n",
    "             '时间t-1期的收益率']\n",
    "df_repr = df.round({'N': 0, '均值': 3, 't值': 2})\n",
    "\n",
    "df.to_excel(conf['path']['demo'] + '回归系数.xlsx')\n",
    "df_repr.to_csv(conf['path']['demo'] + '回归系数.csv')\n",
    "table05 = df.copy()"
   ]
  },
  {
   "cell_type": "code",
   "execution_count": 16,
   "metadata": {},
   "outputs": [
    {
     "name": "stdout",
     "output_type": "stream",
     "text": [
      "           N     均值     t值               备注\n",
      "对应系数                                       \n",
      "AP       937  0.029  65.57    时间t价格向上跨越整数价位\n",
      "AD       937 -0.021 -65.44    时间t价格向下跨越整数价位\n",
      "BP       937  0.006  26.09  时间t+1价格向上跨越整数价位\n",
      "BD       937 -0.004 -24.31  时间t+1价格向下跨越整数价位\n",
      "R_{t-1}  937 -0.004  -1.89       时间t-1期的收益率\n"
     ]
    }
   ],
   "source": [
    "print(df_repr)"
   ]
  }
 ],
 "metadata": {
  "kernelspec": {
   "display_name": "Python 3.11.0 - tushare",
   "language": "python",
   "name": "tushare"
  },
  "language_info": {
   "codemirror_mode": {
    "name": "ipython",
    "version": 3
   },
   "file_extension": ".py",
   "mimetype": "text/x-python",
   "name": "python",
   "nbconvert_exporter": "python",
   "pygments_lexer": "ipython3",
   "version": "3.11.0"
  }
 },
 "nbformat": 4,
 "nbformat_minor": 4
}
