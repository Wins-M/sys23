{
 "cells": [
  {
   "cell_type": "code",
   "execution_count": 1,
   "id": "d14d34a5-8dae-4853-8f37-de777e9996f7",
   "metadata": {},
   "outputs": [],
   "source": [
    "import os\n",
    "import sys\n",
    "\n",
    "_PATH = '/Users/winston/mygitrep/sys23/'  # TODO\n",
    "os.chdir(_PATH)\n",
    "sys.path.append(_PATH)"
   ]
  },
  {
   "cell_type": "code",
   "execution_count": 2,
   "id": "8e107bd1-98c8-4d13-8b42-95ec0dd49d4a",
   "metadata": {},
   "outputs": [],
   "source": [
    "import warnings\n",
    "warnings.simplefilter(\"ignore\")\n",
    "%matplotlib inline\n",
    "import matplotlib.pyplot as plt\n",
    "import seaborn\n",
    "# seaborn.set_style(\"darkgrid\")\n",
    "seaborn.set_style(\"whitegrid\")\n",
    "plt.rc(\"figure\", figsize=(16, 6))\n",
    "# plt.rc(\"figure\", figsize=(6, 3))\n",
    "plt.rc(\"savefig\", dpi=90)\n",
    "# plt.rc(\"font\", family=\"sans-serif\")\n",
    "plt.rcParams['font.sans-serif'] = ['Arial Unicode MS']\n",
    "plt.rc(\"font\", size=12)\n",
    "# plt.rc(\"font\", size=10)\n",
    "plt.rcParams[\"date.autoformatter.hour\"] = \"%H:%M:%S\""
   ]
  },
  {
   "cell_type": "code",
   "execution_count": 3,
   "id": "c571340e-0011-43aa-bd5c-5836d37b245d",
   "metadata": {},
   "outputs": [
    {
     "name": "stdout",
     "output_type": "stream",
     "text": [
      "dict_keys(['status', 'tushare_token', 'api_path', 'path', 'year_length', 'csi_pool', 'update_cache_demo'])\n"
     ]
    }
   ],
   "source": [
    "from api.load_tushare import conf_init, next_calendar_date, TushareLoader\n",
    "\n",
    "import pandas as pd\n",
    "import numpy as np\n",
    "\n",
    "config_path = f'{_PATH}/config_stk.yaml'\n",
    "conf = conf_init(conf_path=config_path)\n",
    "print(conf.keys())\n",
    "\n",
    "begin_date = '2015-01-01'\n",
    "# begin_date = '2018-01-01'\n",
    "end_date = '2022-12-31'\n",
    "# end_date = '2023-03-31'\n",
    "\n",
    "tgt_path = conf['path']['factors_csv']\n",
    "os.makedirs(tgt_path, exist_ok=True)"
   ]
  },
  {
   "cell_type": "code",
   "execution_count": 4,
   "id": "845723d7-1727-4102-bd4c-4f1453ae3790",
   "metadata": {},
   "outputs": [],
   "source": [
    "from tqdm import tqdm\n",
    "\n",
    "def cal_ic_stat(data):\n",
    "    \"\"\"获取IC的统计指标\"\"\"\n",
    "    from scipy import stats\n",
    "    \n",
    "    data = data.dropna()\n",
    "    t_value, p_value = stats.ttest_1samp(data, 0)  # 计算ic的t\n",
    "    pdata = data[data >= 0]\n",
    "    ndata = data[data < 0]\n",
    "    data_stat = list(zip(\n",
    "        data.mean(), data.std(), data.skew(), data.kurt(), t_value, p_value,\n",
    "        pdata.mean(), ndata.mean(), pdata.std(), ndata.std(),\n",
    "        ndata.isna().mean(), pdata.isna().mean(), data.mean() / data.std()\n",
    "    ))\n",
    "    data_stat = pd.DataFrame(data_stat).T\n",
    "    data_stat.columns = data.columns\n",
    "    data_stat.index = ['mean', 'std', 'skew', 'kurt', 't_value', 'p_value',\n",
    "                       'mean+', 'mean-', 'std+', 'std-', 'pos ratio', 'neg ratio', 'IR']\n",
    "    #\n",
    "    return data_stat"
   ]
  },
  {
   "cell_type": "code",
   "execution_count": 11,
   "id": "50bc83b5-a0f3-4425-86e4-aa9d8f7c7839",
   "metadata": {},
   "outputs": [
    {
     "name": "stderr",
     "output_type": "stream",
     "text": [
      "100%|█████████████████████████████████████████████| 6/6 [00:00<00:00, 64.73it/s]\n"
     ]
    }
   ],
   "source": [
    "src_path = conf['path']['factors_res']\n",
    "folders = [_ for _ in os.listdir(src_path) if 'COMB_' in _]\n",
    "stat_ic_rank = []\n",
    "stat_ic = []\n",
    "for folder in tqdm(folders):\n",
    "    path_fmt = src_path + folder + '/{}'\n",
    "    fname = folder.replace('[NEW]', '').replace('COMB_', '')\n",
    "    df = pd.read_csv(path_fmt.format('截面RankIC.csv'), index_col=0)\n",
    "    stat_ic_rank.append(cal_ic_stat(df).T.stack().rename(fname))\n",
    "    df = pd.read_csv(path_fmt.format('截面IC.csv'), index_col=0)\n",
    "    stat_ic.append(cal_ic_stat(df).T.stack().rename(fname))\n",
    "stat_ic = pd.concat(stat_ic, axis=1)\n",
    "stat_ic.to_csv(conf['path']['factors_res'] + f'COMB_reports_IC[{len(folders)}].csv')\n",
    "stat_ic_rank = pd.concat(stat_ic_rank, axis=1)\n",
    "stat_ic_rank.to_csv(conf['path']['factors_res'] + f'COMB_reports_RankIC[{len(folders)}].csv')"
   ]
  },
  {
   "cell_type": "code",
   "execution_count": 7,
   "id": "7ce04dc6-dd64-45d0-8ddb-9b7d0671ce7d",
   "metadata": {},
   "outputs": [
    {
     "name": "stderr",
     "output_type": "stream",
     "text": [
      "100%|███████████████████████████████████████████| 32/32 [00:00<00:00, 86.09it/s]\n"
     ]
    }
   ],
   "source": [
    "src_path = conf['path']['factors_res']\n",
    "folders = [_ for _ in os.listdir(src_path) if '_residsectorbarrar[NEW]' in _]\n",
    "stat_ic_rank = []\n",
    "stat_ic = []\n",
    "for folder in tqdm(folders):\n",
    "    path_fmt = src_path + folder + '/{}'\n",
    "    fname = folder.replace('[NEW]', '')\n",
    "    df = pd.read_csv(path_fmt.format('截面RankIC.csv'), index_col=0)\n",
    "    stat_ic_rank.append(cal_ic_stat(df).T.stack().rename(fname))\n",
    "    df = pd.read_csv(path_fmt.format('截面IC.csv'), index_col=0)\n",
    "    stat_ic.append(cal_ic_stat(df).T.stack().rename(fname))\n",
    "stat_ic = pd.concat(stat_ic, axis=1)\n",
    "stat_ic.to_csv(conf['path']['factors_res'] + f'reports_IC[{len(folders)}].csv')\n",
    "stat_ic_rank = pd.concat(stat_ic_rank, axis=1)\n",
    "stat_ic_rank.to_csv(conf['path']['factors_res'] + f'reports_RankIC[{len(folders)}].csv')"
   ]
  },
  {
   "cell_type": "code",
   "execution_count": 10,
   "id": "d899d303-6203-4fe0-96fe-c61c94eff5db",
   "metadata": {},
   "outputs": [],
   "source": [
    "stat_ic_rank.round(3).to_clipboard()"
   ]
  }
 ],
 "metadata": {
  "kernelspec": {
   "display_name": "Python 3.11.0 - tushare",
   "language": "python",
   "name": "tushare"
  },
  "language_info": {
   "codemirror_mode": {
    "name": "ipython",
    "version": 3
   },
   "file_extension": ".py",
   "mimetype": "text/x-python",
   "name": "python",
   "nbconvert_exporter": "python",
   "pygments_lexer": "ipython3",
   "version": "3.11.0"
  }
 },
 "nbformat": 4,
 "nbformat_minor": 5
}
