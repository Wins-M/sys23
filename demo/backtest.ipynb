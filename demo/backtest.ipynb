{
 "cells": [
  {
   "cell_type": "code",
   "execution_count": 7,
   "id": "b87053dc-4ece-45c6-88ae-adc126606ed5",
   "metadata": {},
   "outputs": [],
   "source": [
    "_PATH = '../' "
   ]
  },
  {
   "cell_type": "code",
   "execution_count": 5,
   "id": "99437264-3b74-46c6-b51e-9611e142de7e",
   "metadata": {},
   "outputs": [
    {
     "data": {
      "text/plain": [
       "'/Users/winston/mygitrep/sys23/demo'"
      ]
     },
     "execution_count": 5,
     "metadata": {},
     "output_type": "execute_result"
    }
   ],
   "source": [
    "%pwd"
   ]
  },
  {
   "cell_type": "code",
   "execution_count": 4,
   "id": "f50463fd-0c02-471a-8002-6973815837da",
   "metadata": {},
   "outputs": [
    {
     "name": "stdout",
     "output_type": "stream",
     "text": [
      "\u001B[1m\u001B[36m20230202wind导出\u001B[m\u001B[m/           \u001B[1m\u001B[36mmoneyflow\u001B[m\u001B[m/\n",
      "\u001B[1m\u001B[36madj_factor\u001B[m\u001B[m/                 new_share.csv\n",
      "amount.csv                  openAdj.csv\n",
      "circ_mv.csv                 pb.csv\n",
      "closeAdj.csv                pe.csv\n",
      "\u001B[1m\u001B[36mdaily\u001B[m\u001B[m/                      pe_ttm.csv\n",
      "\u001B[1m\u001B[36mdaily_basic\u001B[m\u001B[m/                ps.csv\n",
      "dv_ratio.csv                ps_ttm.csv\n",
      "dv_ttm.csv                  \u001B[1m\u001B[36mstk_limit\u001B[m\u001B[m/\n",
      "float_share.csv             \u001B[1m\u001B[36msuspend_d\u001B[m\u001B[m/\n",
      "free_share.csv              total_mv.csv\n",
      "highAdj.csv                 total_share.csv\n",
      "history_A_stock_k_data.csv  turnover_rate.csv\n",
      "\u001B[1m\u001B[36mindex_dailybasic\u001B[m\u001B[m/           turnover_rate_f.csv\n",
      "\u001B[1m\u001B[36mindex_weight\u001B[m\u001B[m/               vol.csv\n",
      "lowAdj.csv                  volume_ratio.csv\n"
     ]
    }
   ],
   "source": [
    "%ls ../cache"
   ]
  }
 ],
 "metadata": {
  "kernelspec": {
   "display_name": "Python 3.11.0 - tushare",
   "language": "python",
   "name": "tushare"
  },
  "language_info": {
   "codemirror_mode": {
    "name": "ipython",
    "version": 3
   },
   "file_extension": ".py",
   "mimetype": "text/x-python",
   "name": "python",
   "nbconvert_exporter": "python",
   "pygments_lexer": "ipython3",
   "version": "3.11.0"
  }
 },
 "nbformat": 4,
 "nbformat_minor": 5
}
