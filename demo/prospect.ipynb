{
 "cells": [
  {
   "cell_type": "code",
   "execution_count": 1,
   "id": "554be149-dd91-423f-b44c-479dec0c5511",
   "metadata": {},
   "outputs": [
    {
     "data": {
      "text/plain": [
       "'/Users/winston/mygitrep/sys23/demo'"
      ]
     },
     "execution_count": 1,
     "metadata": {},
     "output_type": "execute_result"
    }
   ],
   "source": [
    "%pwd"
   ]
  },
  {
   "cell_type": "markdown",
   "id": "03cf1ed3-cecc-4e0e-b67f-df2e4e725edf",
   "metadata": {},
   "source": [
    "锚定价格\n",
    "\n",
    "$$  \n",
    "RP_{t}= \\frac{1}{k} \\sum_{n=1}^{N} \\left( V_{t-n} \\prod_{\\tau=1}^{n-1} (1 - V_{t-n+\\tau}) \\right) P_{t-n}  \n",
    "$$\n",
    "\n",
    "- 𝑉𝑡代表 t 时刻的换手率，𝑃𝑡代表 t 时刻某只股票的价格\n",
    "- N 为截断的时间长度，1/k 是权重归一化参数\n",
    "- 如果 N 日内累计换手率>100%，则说明这段时间 已经进行了充分换手，N 日前的价格就不再具备参考意义\n",
    "- 当 N 为 40 时，A 股历史的平均换手率已经超过了 100%，达到 114.95%，这说明 40 日作为截断已经是一个合适的参数。\n",
    "- 但我们从数据历史上的不稳定性考虑，取了一个相对更长的时间区间：以 60 日作为截断来对锚定价格进行计算\n",
    "\n",
    "未实现盈利量\n",
    "\n",
    "$$  \n",
    "CGO = \\frac{P_{t} - RP_{t}}{P_{t}}  \n",
    "$$\n",
    "\n",
    "- 其中𝑃𝑡是当前股价，𝑅𝑃𝑡是 计算的锚定价格\n",
    "- 未实现盈利量 CGO 与股票的未来收益正相关。\n",
    "- 投资者在盈利状态时，由于厌恶风险，更倾向于卖出股票，从而导致这一类股票被低估；在亏损状时，由于偏好风险，更倾向于持有股票，从而导致这一类股票被高估\n",
    "    \n",
    "\n",
    "月度调仓；行业与市值中性\n",
    "\n",
    "将反转因子的效应剔除\n",
    "\n",
    "$$\n",
    "[TODO]\n",
    "$$\n",
    "\n",
    "\n",
    "---\n",
    "\n",
    "\n"
   ]
  },
  {
   "cell_type": "markdown",
   "id": "c8e73f41-3b8c-4f38-982d-1be988165457",
   "metadata": {},
   "source": [
    "\n",
    "\n",
    "[《中信建投行为金融学实证研究系列：前景理论因》](../idea/docs/中信建投行为金融学实证研究系列：前景理论因.pdf)"
   ]
  },
  {
   "cell_type": "markdown",
   "id": "754196ca-e319-4521-9ae9-ebf968a2765b",
   "metadata": {},
   "source": []
  }
 ],
 "metadata": {
  "kernelspec": {
   "display_name": "Python 3.11.0 - tushare",
   "language": "python",
   "name": "tushare"
  },
  "language_info": {
   "codemirror_mode": {
    "name": "ipython",
    "version": 3
   },
   "file_extension": ".py",
   "mimetype": "text/x-python",
   "name": "python",
   "nbconvert_exporter": "python",
   "pygments_lexer": "ipython3",
   "version": "3.11.0"
  }
 },
 "nbformat": 4,
 "nbformat_minor": 5
}
