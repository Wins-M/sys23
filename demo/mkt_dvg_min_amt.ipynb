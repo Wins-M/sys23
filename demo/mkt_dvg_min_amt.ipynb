{
 "cells": [
  {
   "cell_type": "code",
   "execution_count": 1,
   "id": "eba5b6a3-1eb4-43d2-a5bb-ecb5a3486bc9",
   "metadata": {},
   "outputs": [
    {
     "data": {
      "text/plain": [
       "'/Users/winston/mygitrep/sys23/demo'"
      ]
     },
     "execution_count": 1,
     "metadata": {},
     "output_type": "execute_result"
    }
   ],
   "source": [
    "%pwd"
   ]
  },
  {
   "cell_type": "markdown",
   "id": "729ca495-533a-4627-ac0a-953048886dec",
   "metadata": {
    "tags": []
   },
   "source": [
    "# Factor: `mkt_dvg_min_amt`\n",
    "\n",
    "Market Divergence of Minute Amount\n",
    "\n",
    "成交额市场分歧度择时：\n",
    "\n",
    "1. 价格高位【当日实现收益相对过去20日日收益均值处于较高水平】；\n",
    "2. 市场分化【分钟收益全市场趋同时】"
   ]
  },
  {
   "cell_type": "markdown",
   "id": "c8779285-e7d4-4eb4-9a46-35ed207ffb9f",
   "metadata": {
    "tags": []
   },
   "source": [
    "收益率 ~ 股价成交额与其他股票成交额的关联性\n",
    "\n",
    "- 股价高位时：关联越高越好，“随波逐流”\n",
    "    - 价格高位由市场趋势带动，持续\n",
    "    - 投资者意见分歧，结束\n",
    "- 市场分化不明显时：关联越低越好，“孤雁出群”\n",
    "    - 市场没有热点，独立异动酝酿新热点\n",
    "- 等权合成：“水中行舟”\n",
    "    - 月度选股，RankIC 9.36e-2, Rank ICIR -4.95, LS Yearly Return 36.24\\%, IR 4.40, Monthly WR 86.67%\n",
    "    - 剔除常用风格因子\n",
    "    - 成份股：CSI300, CSI500, CSI1000 多头年化收益 9.48\\%, 9.71\\%, 18.51\\%\n",
    "\n",
    "[《方正证券-个股成交额的市场跟随性与“水中行舟”因子》](../idea/docs/个股成交额的市场跟随性与“水中行舟”因子——多因子选股系列研究之九.pdf)\n"
   ]
  },
  {
   "cell_type": "markdown",
   "id": "b859ac53-c846-40f5-aaf2-e3a20c935e82",
   "metadata": {
    "jp-MarkdownHeadingCollapsed": true,
    "tags": []
   },
   "source": [
    "## 数据准备"
   ]
  },
  {
   "cell_type": "code",
   "execution_count": null,
   "id": "eaed987d-1c73-4d32-8e8a-8ad6316e5c45",
   "metadata": {},
   "outputs": [],
   "source": []
  },
  {
   "cell_type": "markdown",
   "id": "4809501d-555d-461c-bcf1-3bbc5b53d11c",
   "metadata": {},
   "source": [
    "## 因子构造"
   ]
  },
  {
   "cell_type": "markdown",
   "id": "39801356-6e91-4ed2-9a0b-a93a932c36f8",
   "metadata": {},
   "source": [
    "\n",
    "> - 【】：描述经济直觉\n",
    "> - 『』：提出改进方向\n"
   ]
  },
  {
   "cell_type": "markdown",
   "id": "e90b570e-7d37-4c09-b36a-549fc6d2cf60",
   "metadata": {
    "tags": []
   },
   "source": [
    "### 随波逐流\n",
    "\n",
    "(1) $t$ 日，合理收益率【20天平均表现】『参数20日窗口，可适应到价格稳定程度：价格波动快，窗口尽量短』\n",
    "\n",
    "$$\n",
    "\\tilde{R}_t = \\frac{1}{2} \\sum_{i=t-19}^{t} \n",
    "\\left(\\frac{P_i^c}{P_i^o} - 1\\right)\n",
    "$$\n",
    "\n",
    "(2) $i$ 分钟，相对开盘收益率【反应当前股价趋势：上行or下行】『需要分钟频k线；更细频率；不等权』\n",
    "$$\n",
    "\\tilde{R}_t^{i} = \\frac{P_t^i}{P_t^o} - 1,\\ i=1,2,\\dots,240\n",
    "$$\n",
    "(3) $t$ 日，高低额差【成交发生于高位or低位】『参数 $\\epsilon$ 判别趋势偏离度：研报取0；宜由窗口内日收益标准差确定 』\n",
    "$$\n",
    "\\delta_t = \\frac{1}{\\text{MV}_t}\n",
    "\\sum_{i=1}^{240}{\n",
    "    \\text{Amt}_t^i \n",
    "    \\times\n",
    "    \\left(\n",
    "        \\textbf{1}\\{\n",
    "            \\tilde{R}_t^i > \n",
    "            \\tilde{R}_t\\ + \\epsilon\n",
    "        \\}\n",
    "        -\n",
    "        \\textbf{1}\\{\n",
    "            \\tilde{R}_t^i < \n",
    "            \\tilde{R}_t - \\epsilon\n",
    "        \\}\n",
    "    \\right)\n",
    "}\n",
    "$$\n",
    "(4) 月底换仓日 $T$，股 $(s)$ 的随波逐流因子【20日窗口期内趋势与大盘的同质性】『20期是否过短？』\n",
    "$$\n",
    "F_T^{(k)} = Mean_{o\\not=s}(Abs(Corr_{t\\in[T-19,T]}^{Spearman}(\n",
    "\t\\delta_t^{(s)},\n",
    "\t\\delta_t^{(o)}\n",
    "))\n",
    "$$\n",
    "(5) 全A；市值、行业正交化；测试区间201301-202301；10分组\n",
    "\n"
   ]
  },
  {
   "cell_type": "code",
   "execution_count": null,
   "id": "902e3e53-9bc8-4925-ab97-bf69821d1fde",
   "metadata": {},
   "outputs": [],
   "source": []
  },
  {
   "cell_type": "markdown",
   "id": "8df1d7e4-08ef-4a9c-bea7-3cb007fed6d5",
   "metadata": {},
   "source": [
    "### 孤雁出群\n",
    "\n",
    "(1) 分钟收益率\n",
    "$$\n",
    "R_i = \\frac{P_i}{P_{i-1}}-1,\\ i=1,2,\\dots,240\n",
    "$$\n",
    "(2) 分钟 $i$，市场分化度【衡量截面分钟收益差异】『观察分布，剔除对极端个股』\n",
    "$$\n",
    "D_i=StdDev_{(s)}(R_i^{(s)})\n",
    "$$\n",
    "(3) 不分化时刻【日内截面收益差异较小的（一半）时刻】『设置不分化时刻每天所占比例；再由20日（窗口期）$\\{\\bar{D}_{t}\\}$ 标准差确定 $\\epsilon$ ，当天截面分化越严重，则该天的不分化时刻占比越少』\n",
    "$$\n",
    "\\mathbb{D}=\\{i: D_i < \\bar{D} + \\lambda \\sigma\\},\\\\\n",
    "\\bar{D}=Quantile_{i\\in[1,240]}^{0.5+\\eta}(D_i),\\\\\n",
    "\\eta\\in(-0.5,0.5)\n",
    "\\\\ \\lambda>0,\\\\\n",
    "\\sigma =StdDev_{t\\in[ct-19,ct]}(\\bar{D}_t)\n",
    "$$\n",
    "(4) “日孤雁出群”【市场分化不明显时，交易额与市场的关联性；皮尔逊相关，提高交易活跃的分钟所占比重（因为大部分时间交易不活跃）】\n",
    "$$\n",
    "f_t^{(s)} = Mean_{o\\not=s}(Abs(Corr_{i\\in\\mathbb{D}}^{Pearson}(\\text{Amt}_i^{(s)}, \\text{Amt}_i^{(o)})))\n",
    "$$\n",
    "(5) 月换仓日“孤雁出群”：“月均孤雁出群” + “月稳孤雁出群”\n",
    "$$\n",
    "F_T^{m,(s)}= Mean_{t\\in[T-19,T]}(f_t^{(s)})\\\\\n",
    "F_T^{sd,(s)} = StdDev_{t\\in[T-19,T]}(f_t^{(s)})\\\\\n",
    "F_T^{(s)} = F_T^{m,(s)} + F_T^{sd,(s)}\n",
    "$$\n"
   ]
  },
  {
   "cell_type": "code",
   "execution_count": null,
   "id": "6ea68eb9-c42b-4541-8d46-bf24f2d6bd9f",
   "metadata": {},
   "outputs": [],
   "source": []
  },
  {
   "cell_type": "markdown",
   "id": "e273893e-1499-4922-b0ef-6b2cd3ee84ab",
   "metadata": {},
   "source": [
    "### 水中行舟\n",
    "\n",
    "- 随波逐流和孤雁出群相关性接近0『既然不相关，那就作为独立的两个因子使用』\n",
    "- 等权合成『可以不等权，但需要逻辑』\n"
   ]
  },
  {
   "cell_type": "code",
   "execution_count": null,
   "id": "2eef56a4-acfb-419a-8236-36f6ce123264",
   "metadata": {},
   "outputs": [],
   "source": []
  },
  {
   "cell_type": "markdown",
   "id": "44e16a29-385f-4543-809d-152ab4a22050",
   "metadata": {},
   "source": [
    "## 市场回测"
   ]
  },
  {
   "cell_type": "code",
   "execution_count": null,
   "id": "9e842003-c698-449a-a1dc-d4612714a920",
   "metadata": {},
   "outputs": [],
   "source": []
  }
 ],
 "metadata": {
  "kernelspec": {
   "display_name": "Python 3.11.0 - myenv",
   "language": "python",
   "name": "myenv"
  },
  "language_info": {
   "codemirror_mode": {
    "name": "ipython",
    "version": 3
   },
   "file_extension": ".py",
   "mimetype": "text/x-python",
   "name": "python",
   "nbconvert_exporter": "python",
   "pygments_lexer": "ipython3",
   "version": "3.11.0"
  }
 },
 "nbformat": 4,
 "nbformat_minor": 5
}
